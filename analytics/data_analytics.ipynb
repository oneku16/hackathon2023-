{
 "cells": [
  {
   "cell_type": "code",
   "execution_count": 1,
   "id": "0360a6d5",
   "metadata": {
    "execution": {
     "iopub.execute_input": "2023-11-05T12:26:00.521581Z",
     "iopub.status.busy": "2023-11-05T12:26:00.520508Z",
     "iopub.status.idle": "2023-11-05T12:26:02.268092Z",
     "shell.execute_reply": "2023-11-05T12:26:02.267319Z"
    },
    "id": "0babbf4e",
    "papermill": {
     "duration": 1.775458,
     "end_time": "2023-11-05T12:26:02.270472",
     "exception": false,
     "start_time": "2023-11-05T12:26:00.495014",
     "status": "completed"
    },
    "tags": []
   },
   "outputs": [],
   "source": [
    "# Major libraries\n",
    "import pandas as pd\n",
    "import numpy as np\n",
    "import matplotlib.pyplot as plt\n",
    "from matplotlib import pyplot\n",
    "import seaborn as sns"
   ]
  },
  {
   "cell_type": "code",
   "execution_count": 2,
   "id": "da1f4a6e",
   "metadata": {
    "execution": {
     "iopub.execute_input": "2023-11-05T12:26:02.319558Z",
     "iopub.status.busy": "2023-11-05T12:26:02.318784Z",
     "iopub.status.idle": "2023-11-05T12:26:02.928570Z",
     "shell.execute_reply": "2023-11-05T12:26:02.927703Z"
    },
    "id": "e5a26ffc",
    "papermill": {
     "duration": 0.636497,
     "end_time": "2023-11-05T12:26:02.930888",
     "exception": false,
     "start_time": "2023-11-05T12:26:02.294391",
     "status": "completed"
    },
    "tags": []
   },
   "outputs": [],
   "source": [
    "# LogisticRegression\n",
    "from sklearn.model_selection import train_test_split\n",
    "from sklearn.linear_model import LogisticRegression\n",
    "# Cross valid labrary\n",
    "# Confusion matrix\n",
    "from sklearn.metrics import confusion_matrix, classification_report, f1_score, precision_score,recall_score, roc_auc_score, roc_curve\n",
    "# KNN\n",
    "from sklearn.neighbors import KNeighborsClassifier\n",
    "# XG Boost\n",
    "import xgboost as xgb"
   ]
  },
  {
   "cell_type": "code",
   "execution_count": 3,
   "id": "6b62d6a6",
   "metadata": {
    "execution": {
     "iopub.execute_input": "2023-11-05T12:26:02.977041Z",
     "iopub.status.busy": "2023-11-05T12:26:02.976403Z",
     "iopub.status.idle": "2023-11-05T12:26:04.273137Z",
     "shell.execute_reply": "2023-11-05T12:26:04.271853Z"
    },
    "id": "21ddc54e",
    "papermill": {
     "duration": 1.322893,
     "end_time": "2023-11-05T12:26:04.275850",
     "exception": false,
     "start_time": "2023-11-05T12:26:02.952957",
     "status": "completed"
    },
    "tags": []
   },
   "outputs": [],
   "source": [
    "# Gridsearch\n",
    "from sklearn.model_selection import GridSearchCV\n",
    "# KFold & Cross validation\n",
    "from sklearn.model_selection import KFold\n",
    "from sklearn.model_selection import cross_val_score\n",
    "# Decision Tree\n",
    "from sklearn.tree import DecisionTreeClassifier\n",
    "from sklearn import tree\n",
    "# RandomForest\n",
    "from sklearn.ensemble import RandomForestClassifier\n",
    "# SVM\n",
    "from sklearn.svm import SVC\n",
    "# NB\n",
    "from sklearn.naive_bayes import GaussianNB\n",
    "# LightGBM\n",
    "from lightgbm import LGBMClassifier\n",
    "import lightgbm as lgb\n",
    "# Other library\n",
    "from sklearn.preprocessing import StandardScaler\n",
    "from sklearn import metrics\n",
    "import warnings"
   ]
  },
  {
   "cell_type": "code",
   "execution_count": 4,
   "id": "a6433a0d",
   "metadata": {
    "execution": {
     "iopub.execute_input": "2023-11-05T12:26:04.324210Z",
     "iopub.status.busy": "2023-11-05T12:26:04.323553Z",
     "iopub.status.idle": "2023-11-05T12:26:04.415816Z",
     "shell.execute_reply": "2023-11-05T12:26:04.414750Z"
    },
    "id": "f766e688",
    "outputId": "22a41847-4f28-459c-8d45-8c7cb1014e5c",
    "papermill": {
     "duration": 0.118809,
     "end_time": "2023-11-05T12:26:04.418109",
     "exception": false,
     "start_time": "2023-11-05T12:26:04.299300",
     "status": "completed"
    },
    "tags": []
   },
   "outputs": [
    {
     "data": {
      "text/html": [
       "<div>\n",
       "<style scoped>\n",
       "    .dataframe tbody tr th:only-of-type {\n",
       "        vertical-align: middle;\n",
       "    }\n",
       "\n",
       "    .dataframe tbody tr th {\n",
       "        vertical-align: top;\n",
       "    }\n",
       "\n",
       "    .dataframe thead th {\n",
       "        text-align: right;\n",
       "    }\n",
       "</style>\n",
       "<table border=\"1\" class=\"dataframe\">\n",
       "  <thead>\n",
       "    <tr style=\"text-align: right;\">\n",
       "      <th></th>\n",
       "      <th>RowNumber</th>\n",
       "      <th>CustomerId</th>\n",
       "      <th>Surname</th>\n",
       "      <th>CreditScore</th>\n",
       "      <th>Geography</th>\n",
       "      <th>Gender</th>\n",
       "      <th>Age</th>\n",
       "      <th>Tenure</th>\n",
       "      <th>Balance</th>\n",
       "      <th>NumOfProducts</th>\n",
       "      <th>HasCrCard</th>\n",
       "      <th>IsActiveMember</th>\n",
       "      <th>EstimatedSalary</th>\n",
       "      <th>Exited</th>\n",
       "    </tr>\n",
       "  </thead>\n",
       "  <tbody>\n",
       "    <tr>\n",
       "      <th>0</th>\n",
       "      <td>1</td>\n",
       "      <td>15634602</td>\n",
       "      <td>Hargrave</td>\n",
       "      <td>619</td>\n",
       "      <td>France</td>\n",
       "      <td>Female</td>\n",
       "      <td>42</td>\n",
       "      <td>2</td>\n",
       "      <td>0.00</td>\n",
       "      <td>1</td>\n",
       "      <td>1</td>\n",
       "      <td>1</td>\n",
       "      <td>101348.88</td>\n",
       "      <td>1</td>\n",
       "    </tr>\n",
       "    <tr>\n",
       "      <th>1</th>\n",
       "      <td>2</td>\n",
       "      <td>15647311</td>\n",
       "      <td>Hill</td>\n",
       "      <td>608</td>\n",
       "      <td>Spain</td>\n",
       "      <td>Female</td>\n",
       "      <td>41</td>\n",
       "      <td>1</td>\n",
       "      <td>83807.86</td>\n",
       "      <td>1</td>\n",
       "      <td>0</td>\n",
       "      <td>1</td>\n",
       "      <td>112542.58</td>\n",
       "      <td>0</td>\n",
       "    </tr>\n",
       "    <tr>\n",
       "      <th>2</th>\n",
       "      <td>3</td>\n",
       "      <td>15619304</td>\n",
       "      <td>Onio</td>\n",
       "      <td>502</td>\n",
       "      <td>France</td>\n",
       "      <td>Female</td>\n",
       "      <td>42</td>\n",
       "      <td>8</td>\n",
       "      <td>159660.80</td>\n",
       "      <td>3</td>\n",
       "      <td>1</td>\n",
       "      <td>0</td>\n",
       "      <td>113931.57</td>\n",
       "      <td>1</td>\n",
       "    </tr>\n",
       "    <tr>\n",
       "      <th>3</th>\n",
       "      <td>4</td>\n",
       "      <td>15701354</td>\n",
       "      <td>Boni</td>\n",
       "      <td>699</td>\n",
       "      <td>France</td>\n",
       "      <td>Female</td>\n",
       "      <td>39</td>\n",
       "      <td>1</td>\n",
       "      <td>0.00</td>\n",
       "      <td>2</td>\n",
       "      <td>0</td>\n",
       "      <td>0</td>\n",
       "      <td>93826.63</td>\n",
       "      <td>0</td>\n",
       "    </tr>\n",
       "    <tr>\n",
       "      <th>4</th>\n",
       "      <td>5</td>\n",
       "      <td>15737888</td>\n",
       "      <td>Mitchell</td>\n",
       "      <td>850</td>\n",
       "      <td>Spain</td>\n",
       "      <td>Female</td>\n",
       "      <td>43</td>\n",
       "      <td>2</td>\n",
       "      <td>125510.82</td>\n",
       "      <td>1</td>\n",
       "      <td>1</td>\n",
       "      <td>1</td>\n",
       "      <td>79084.10</td>\n",
       "      <td>0</td>\n",
       "    </tr>\n",
       "    <tr>\n",
       "      <th>...</th>\n",
       "      <td>...</td>\n",
       "      <td>...</td>\n",
       "      <td>...</td>\n",
       "      <td>...</td>\n",
       "      <td>...</td>\n",
       "      <td>...</td>\n",
       "      <td>...</td>\n",
       "      <td>...</td>\n",
       "      <td>...</td>\n",
       "      <td>...</td>\n",
       "      <td>...</td>\n",
       "      <td>...</td>\n",
       "      <td>...</td>\n",
       "      <td>...</td>\n",
       "    </tr>\n",
       "    <tr>\n",
       "      <th>9995</th>\n",
       "      <td>9996</td>\n",
       "      <td>15606229</td>\n",
       "      <td>Obijiaku</td>\n",
       "      <td>771</td>\n",
       "      <td>France</td>\n",
       "      <td>Male</td>\n",
       "      <td>39</td>\n",
       "      <td>5</td>\n",
       "      <td>0.00</td>\n",
       "      <td>2</td>\n",
       "      <td>1</td>\n",
       "      <td>0</td>\n",
       "      <td>96270.64</td>\n",
       "      <td>0</td>\n",
       "    </tr>\n",
       "    <tr>\n",
       "      <th>9996</th>\n",
       "      <td>9997</td>\n",
       "      <td>15569892</td>\n",
       "      <td>Johnstone</td>\n",
       "      <td>516</td>\n",
       "      <td>France</td>\n",
       "      <td>Male</td>\n",
       "      <td>35</td>\n",
       "      <td>10</td>\n",
       "      <td>57369.61</td>\n",
       "      <td>1</td>\n",
       "      <td>1</td>\n",
       "      <td>1</td>\n",
       "      <td>101699.77</td>\n",
       "      <td>0</td>\n",
       "    </tr>\n",
       "    <tr>\n",
       "      <th>9997</th>\n",
       "      <td>9998</td>\n",
       "      <td>15584532</td>\n",
       "      <td>Liu</td>\n",
       "      <td>709</td>\n",
       "      <td>France</td>\n",
       "      <td>Female</td>\n",
       "      <td>36</td>\n",
       "      <td>7</td>\n",
       "      <td>0.00</td>\n",
       "      <td>1</td>\n",
       "      <td>0</td>\n",
       "      <td>1</td>\n",
       "      <td>42085.58</td>\n",
       "      <td>1</td>\n",
       "    </tr>\n",
       "    <tr>\n",
       "      <th>9998</th>\n",
       "      <td>9999</td>\n",
       "      <td>15682355</td>\n",
       "      <td>Sabbatini</td>\n",
       "      <td>772</td>\n",
       "      <td>Germany</td>\n",
       "      <td>Male</td>\n",
       "      <td>42</td>\n",
       "      <td>3</td>\n",
       "      <td>75075.31</td>\n",
       "      <td>2</td>\n",
       "      <td>1</td>\n",
       "      <td>0</td>\n",
       "      <td>92888.52</td>\n",
       "      <td>1</td>\n",
       "    </tr>\n",
       "    <tr>\n",
       "      <th>9999</th>\n",
       "      <td>10000</td>\n",
       "      <td>15628319</td>\n",
       "      <td>Walker</td>\n",
       "      <td>792</td>\n",
       "      <td>France</td>\n",
       "      <td>Female</td>\n",
       "      <td>28</td>\n",
       "      <td>4</td>\n",
       "      <td>130142.79</td>\n",
       "      <td>1</td>\n",
       "      <td>1</td>\n",
       "      <td>0</td>\n",
       "      <td>38190.78</td>\n",
       "      <td>0</td>\n",
       "    </tr>\n",
       "  </tbody>\n",
       "</table>\n",
       "<p>10000 rows × 14 columns</p>\n",
       "</div>"
      ],
      "text/plain": [
       "      RowNumber  CustomerId    Surname  CreditScore Geography  Gender  Age  \\\n",
       "0             1    15634602   Hargrave          619    France  Female   42   \n",
       "1             2    15647311       Hill          608     Spain  Female   41   \n",
       "2             3    15619304       Onio          502    France  Female   42   \n",
       "3             4    15701354       Boni          699    France  Female   39   \n",
       "4             5    15737888   Mitchell          850     Spain  Female   43   \n",
       "...         ...         ...        ...          ...       ...     ...  ...   \n",
       "9995       9996    15606229   Obijiaku          771    France    Male   39   \n",
       "9996       9997    15569892  Johnstone          516    France    Male   35   \n",
       "9997       9998    15584532        Liu          709    France  Female   36   \n",
       "9998       9999    15682355  Sabbatini          772   Germany    Male   42   \n",
       "9999      10000    15628319     Walker          792    France  Female   28   \n",
       "\n",
       "      Tenure    Balance  NumOfProducts  HasCrCard  IsActiveMember  \\\n",
       "0          2       0.00              1          1               1   \n",
       "1          1   83807.86              1          0               1   \n",
       "2          8  159660.80              3          1               0   \n",
       "3          1       0.00              2          0               0   \n",
       "4          2  125510.82              1          1               1   \n",
       "...      ...        ...            ...        ...             ...   \n",
       "9995       5       0.00              2          1               0   \n",
       "9996      10   57369.61              1          1               1   \n",
       "9997       7       0.00              1          0               1   \n",
       "9998       3   75075.31              2          1               0   \n",
       "9999       4  130142.79              1          1               0   \n",
       "\n",
       "      EstimatedSalary  Exited  \n",
       "0           101348.88       1  \n",
       "1           112542.58       0  \n",
       "2           113931.57       1  \n",
       "3            93826.63       0  \n",
       "4            79084.10       0  \n",
       "...               ...     ...  \n",
       "9995         96270.64       0  \n",
       "9996        101699.77       0  \n",
       "9997         42085.58       1  \n",
       "9998         92888.52       1  \n",
       "9999         38190.78       0  \n",
       "\n",
       "[10000 rows x 14 columns]"
      ]
     },
     "execution_count": 4,
     "metadata": {},
     "output_type": "execute_result"
    }
   ],
   "source": [
    "data = pd.read_csv(\"Churn_Modelling.csv\")\n",
    "data"
   ]
  },
  {
   "cell_type": "code",
   "execution_count": 5,
   "id": "2ae5eebd",
   "metadata": {
    "execution": {
     "iopub.execute_input": "2023-11-05T12:26:04.518340Z",
     "iopub.status.busy": "2023-11-05T12:26:04.517916Z",
     "iopub.status.idle": "2023-11-05T12:26:04.533365Z",
     "shell.execute_reply": "2023-11-05T12:26:04.532166Z"
    },
    "id": "eec1fd10",
    "outputId": "c023c071-5da7-48fc-8695-18c06d2235fc",
    "papermill": {
     "duration": 0.094601,
     "end_time": "2023-11-05T12:26:04.535507",
     "exception": false,
     "start_time": "2023-11-05T12:26:04.440906",
     "status": "completed"
    },
    "tags": []
   },
   "outputs": [
    {
     "data": {
      "text/html": [
       "<div>\n",
       "<style scoped>\n",
       "    .dataframe tbody tr th:only-of-type {\n",
       "        vertical-align: middle;\n",
       "    }\n",
       "\n",
       "    .dataframe tbody tr th {\n",
       "        vertical-align: top;\n",
       "    }\n",
       "\n",
       "    .dataframe thead th {\n",
       "        text-align: right;\n",
       "    }\n",
       "</style>\n",
       "<table border=\"1\" class=\"dataframe\">\n",
       "  <thead>\n",
       "    <tr style=\"text-align: right;\">\n",
       "      <th></th>\n",
       "      <th>RowNumber</th>\n",
       "      <th>CustomerId</th>\n",
       "      <th>Surname</th>\n",
       "      <th>CreditScore</th>\n",
       "      <th>Geography</th>\n",
       "      <th>Gender</th>\n",
       "      <th>Age</th>\n",
       "      <th>Tenure</th>\n",
       "      <th>Balance</th>\n",
       "      <th>NumOfProducts</th>\n",
       "      <th>HasCrCard</th>\n",
       "      <th>IsActiveMember</th>\n",
       "      <th>EstimatedSalary</th>\n",
       "      <th>Exited</th>\n",
       "    </tr>\n",
       "  </thead>\n",
       "  <tbody>\n",
       "    <tr>\n",
       "      <th>0</th>\n",
       "      <td>1</td>\n",
       "      <td>15634602</td>\n",
       "      <td>Hargrave</td>\n",
       "      <td>619</td>\n",
       "      <td>France</td>\n",
       "      <td>Female</td>\n",
       "      <td>42</td>\n",
       "      <td>2</td>\n",
       "      <td>0.00</td>\n",
       "      <td>1</td>\n",
       "      <td>1</td>\n",
       "      <td>1</td>\n",
       "      <td>101348.88</td>\n",
       "      <td>1</td>\n",
       "    </tr>\n",
       "    <tr>\n",
       "      <th>1</th>\n",
       "      <td>2</td>\n",
       "      <td>15647311</td>\n",
       "      <td>Hill</td>\n",
       "      <td>608</td>\n",
       "      <td>Spain</td>\n",
       "      <td>Female</td>\n",
       "      <td>41</td>\n",
       "      <td>1</td>\n",
       "      <td>83807.86</td>\n",
       "      <td>1</td>\n",
       "      <td>0</td>\n",
       "      <td>1</td>\n",
       "      <td>112542.58</td>\n",
       "      <td>0</td>\n",
       "    </tr>\n",
       "    <tr>\n",
       "      <th>2</th>\n",
       "      <td>3</td>\n",
       "      <td>15619304</td>\n",
       "      <td>Onio</td>\n",
       "      <td>502</td>\n",
       "      <td>France</td>\n",
       "      <td>Female</td>\n",
       "      <td>42</td>\n",
       "      <td>8</td>\n",
       "      <td>159660.80</td>\n",
       "      <td>3</td>\n",
       "      <td>1</td>\n",
       "      <td>0</td>\n",
       "      <td>113931.57</td>\n",
       "      <td>1</td>\n",
       "    </tr>\n",
       "    <tr>\n",
       "      <th>3</th>\n",
       "      <td>4</td>\n",
       "      <td>15701354</td>\n",
       "      <td>Boni</td>\n",
       "      <td>699</td>\n",
       "      <td>France</td>\n",
       "      <td>Female</td>\n",
       "      <td>39</td>\n",
       "      <td>1</td>\n",
       "      <td>0.00</td>\n",
       "      <td>2</td>\n",
       "      <td>0</td>\n",
       "      <td>0</td>\n",
       "      <td>93826.63</td>\n",
       "      <td>0</td>\n",
       "    </tr>\n",
       "    <tr>\n",
       "      <th>4</th>\n",
       "      <td>5</td>\n",
       "      <td>15737888</td>\n",
       "      <td>Mitchell</td>\n",
       "      <td>850</td>\n",
       "      <td>Spain</td>\n",
       "      <td>Female</td>\n",
       "      <td>43</td>\n",
       "      <td>2</td>\n",
       "      <td>125510.82</td>\n",
       "      <td>1</td>\n",
       "      <td>1</td>\n",
       "      <td>1</td>\n",
       "      <td>79084.10</td>\n",
       "      <td>0</td>\n",
       "    </tr>\n",
       "  </tbody>\n",
       "</table>\n",
       "</div>"
      ],
      "text/plain": [
       "   RowNumber  CustomerId   Surname  CreditScore Geography  Gender  Age  \\\n",
       "0          1    15634602  Hargrave          619    France  Female   42   \n",
       "1          2    15647311      Hill          608     Spain  Female   41   \n",
       "2          3    15619304      Onio          502    France  Female   42   \n",
       "3          4    15701354      Boni          699    France  Female   39   \n",
       "4          5    15737888  Mitchell          850     Spain  Female   43   \n",
       "\n",
       "   Tenure    Balance  NumOfProducts  HasCrCard  IsActiveMember  \\\n",
       "0       2       0.00              1          1               1   \n",
       "1       1   83807.86              1          0               1   \n",
       "2       8  159660.80              3          1               0   \n",
       "3       1       0.00              2          0               0   \n",
       "4       2  125510.82              1          1               1   \n",
       "\n",
       "   EstimatedSalary  Exited  \n",
       "0        101348.88       1  \n",
       "1        112542.58       0  \n",
       "2        113931.57       1  \n",
       "3         93826.63       0  \n",
       "4         79084.10       0  "
      ]
     },
     "execution_count": 5,
     "metadata": {},
     "output_type": "execute_result"
    }
   ],
   "source": [
    "data.head()"
   ]
  },
  {
   "cell_type": "code",
   "execution_count": 6,
   "id": "d16908ea",
   "metadata": {
    "execution": {
     "iopub.execute_input": "2023-11-05T12:26:04.582788Z",
     "iopub.status.busy": "2023-11-05T12:26:04.582142Z",
     "iopub.status.idle": "2023-11-05T12:26:04.588406Z",
     "shell.execute_reply": "2023-11-05T12:26:04.587587Z"
    },
    "id": "286f1e91",
    "outputId": "d7ad565f-108f-4717-9959-37725362fff4",
    "papermill": {
     "duration": 0.032123,
     "end_time": "2023-11-05T12:26:04.590341",
     "exception": false,
     "start_time": "2023-11-05T12:26:04.558218",
     "status": "completed"
    },
    "tags": []
   },
   "outputs": [
    {
     "data": {
      "text/plain": [
       "(10000, 14)"
      ]
     },
     "execution_count": 6,
     "metadata": {},
     "output_type": "execute_result"
    }
   ],
   "source": [
    "data.shape"
   ]
  },
  {
   "cell_type": "code",
   "execution_count": 7,
   "id": "3640ea7f",
   "metadata": {
    "execution": {
     "iopub.execute_input": "2023-11-05T12:26:04.638601Z",
     "iopub.status.busy": "2023-11-05T12:26:04.637953Z",
     "iopub.status.idle": "2023-11-05T12:26:04.646769Z",
     "shell.execute_reply": "2023-11-05T12:26:04.645892Z"
    },
    "id": "e414c93d",
    "papermill": {
     "duration": 0.035057,
     "end_time": "2023-11-05T12:26:04.648741",
     "exception": false,
     "start_time": "2023-11-05T12:26:04.613684",
     "status": "completed"
    },
    "tags": []
   },
   "outputs": [],
   "source": [
    "# Drop the columns that we don't need.\n",
    "data = data.drop([\"RowNumber\", \"CustomerId\", \"Surname\"], axis = 1)"
   ]
  },
  {
   "cell_type": "code",
   "execution_count": 8,
   "id": "860a736a",
   "metadata": {
    "execution": {
     "iopub.execute_input": "2023-11-05T12:26:04.696447Z",
     "iopub.status.busy": "2023-11-05T12:26:04.695815Z",
     "iopub.status.idle": "2023-11-05T12:26:04.719611Z",
     "shell.execute_reply": "2023-11-05T12:26:04.718165Z"
    },
    "id": "56c55711",
    "outputId": "8b964a32-ad6c-4513-ae8f-f1aab458b716",
    "papermill": {
     "duration": 0.05027,
     "end_time": "2023-11-05T12:26:04.721880",
     "exception": false,
     "start_time": "2023-11-05T12:26:04.671610",
     "status": "completed"
    },
    "tags": []
   },
   "outputs": [
    {
     "name": "stdout",
     "output_type": "stream",
     "text": [
      "<class 'pandas.core.frame.DataFrame'>\n",
      "RangeIndex: 10000 entries, 0 to 9999\n",
      "Data columns (total 11 columns):\n",
      " #   Column           Non-Null Count  Dtype  \n",
      "---  ------           --------------  -----  \n",
      " 0   CreditScore      10000 non-null  int64  \n",
      " 1   Geography        10000 non-null  object \n",
      " 2   Gender           10000 non-null  object \n",
      " 3   Age              10000 non-null  int64  \n",
      " 4   Tenure           10000 non-null  int64  \n",
      " 5   Balance          10000 non-null  float64\n",
      " 6   NumOfProducts    10000 non-null  int64  \n",
      " 7   HasCrCard        10000 non-null  int64  \n",
      " 8   IsActiveMember   10000 non-null  int64  \n",
      " 9   EstimatedSalary  10000 non-null  float64\n",
      " 10  Exited           10000 non-null  int64  \n",
      "dtypes: float64(2), int64(7), object(2)\n",
      "memory usage: 859.5+ KB\n"
     ]
    }
   ],
   "source": [
    "data.info()"
   ]
  },
  {
   "cell_type": "code",
   "execution_count": 9,
   "id": "18889f63",
   "metadata": {
    "execution": {
     "iopub.execute_input": "2023-11-05T12:26:04.769708Z",
     "iopub.status.busy": "2023-11-05T12:26:04.769100Z",
     "iopub.status.idle": "2023-11-05T12:26:04.807489Z",
     "shell.execute_reply": "2023-11-05T12:26:04.806382Z"
    },
    "id": "e5ffd43e",
    "outputId": "877eb52b-eef0-4ec7-9d54-c63c987e0d5e",
    "papermill": {
     "duration": 0.064851,
     "end_time": "2023-11-05T12:26:04.809768",
     "exception": false,
     "start_time": "2023-11-05T12:26:04.744917",
     "status": "completed"
    },
    "tags": []
   },
   "outputs": [
    {
     "data": {
      "text/html": [
       "<div>\n",
       "<style scoped>\n",
       "    .dataframe tbody tr th:only-of-type {\n",
       "        vertical-align: middle;\n",
       "    }\n",
       "\n",
       "    .dataframe tbody tr th {\n",
       "        vertical-align: top;\n",
       "    }\n",
       "\n",
       "    .dataframe thead th {\n",
       "        text-align: right;\n",
       "    }\n",
       "</style>\n",
       "<table border=\"1\" class=\"dataframe\">\n",
       "  <thead>\n",
       "    <tr style=\"text-align: right;\">\n",
       "      <th></th>\n",
       "      <th>CreditScore</th>\n",
       "      <th>Age</th>\n",
       "      <th>Tenure</th>\n",
       "      <th>Balance</th>\n",
       "      <th>NumOfProducts</th>\n",
       "      <th>HasCrCard</th>\n",
       "      <th>IsActiveMember</th>\n",
       "      <th>EstimatedSalary</th>\n",
       "      <th>Exited</th>\n",
       "    </tr>\n",
       "  </thead>\n",
       "  <tbody>\n",
       "    <tr>\n",
       "      <th>count</th>\n",
       "      <td>10000.000000</td>\n",
       "      <td>10000.000000</td>\n",
       "      <td>10000.000000</td>\n",
       "      <td>10000.000000</td>\n",
       "      <td>10000.000000</td>\n",
       "      <td>10000.00000</td>\n",
       "      <td>10000.000000</td>\n",
       "      <td>10000.000000</td>\n",
       "      <td>10000.000000</td>\n",
       "    </tr>\n",
       "    <tr>\n",
       "      <th>mean</th>\n",
       "      <td>650.528800</td>\n",
       "      <td>38.921800</td>\n",
       "      <td>5.012800</td>\n",
       "      <td>76485.889288</td>\n",
       "      <td>1.530200</td>\n",
       "      <td>0.70550</td>\n",
       "      <td>0.515100</td>\n",
       "      <td>100090.239881</td>\n",
       "      <td>0.203700</td>\n",
       "    </tr>\n",
       "    <tr>\n",
       "      <th>std</th>\n",
       "      <td>96.653299</td>\n",
       "      <td>10.487806</td>\n",
       "      <td>2.892174</td>\n",
       "      <td>62397.405202</td>\n",
       "      <td>0.581654</td>\n",
       "      <td>0.45584</td>\n",
       "      <td>0.499797</td>\n",
       "      <td>57510.492818</td>\n",
       "      <td>0.402769</td>\n",
       "    </tr>\n",
       "    <tr>\n",
       "      <th>min</th>\n",
       "      <td>350.000000</td>\n",
       "      <td>18.000000</td>\n",
       "      <td>0.000000</td>\n",
       "      <td>0.000000</td>\n",
       "      <td>1.000000</td>\n",
       "      <td>0.00000</td>\n",
       "      <td>0.000000</td>\n",
       "      <td>11.580000</td>\n",
       "      <td>0.000000</td>\n",
       "    </tr>\n",
       "    <tr>\n",
       "      <th>25%</th>\n",
       "      <td>584.000000</td>\n",
       "      <td>32.000000</td>\n",
       "      <td>3.000000</td>\n",
       "      <td>0.000000</td>\n",
       "      <td>1.000000</td>\n",
       "      <td>0.00000</td>\n",
       "      <td>0.000000</td>\n",
       "      <td>51002.110000</td>\n",
       "      <td>0.000000</td>\n",
       "    </tr>\n",
       "    <tr>\n",
       "      <th>50%</th>\n",
       "      <td>652.000000</td>\n",
       "      <td>37.000000</td>\n",
       "      <td>5.000000</td>\n",
       "      <td>97198.540000</td>\n",
       "      <td>1.000000</td>\n",
       "      <td>1.00000</td>\n",
       "      <td>1.000000</td>\n",
       "      <td>100193.915000</td>\n",
       "      <td>0.000000</td>\n",
       "    </tr>\n",
       "    <tr>\n",
       "      <th>75%</th>\n",
       "      <td>718.000000</td>\n",
       "      <td>44.000000</td>\n",
       "      <td>7.000000</td>\n",
       "      <td>127644.240000</td>\n",
       "      <td>2.000000</td>\n",
       "      <td>1.00000</td>\n",
       "      <td>1.000000</td>\n",
       "      <td>149388.247500</td>\n",
       "      <td>0.000000</td>\n",
       "    </tr>\n",
       "    <tr>\n",
       "      <th>max</th>\n",
       "      <td>850.000000</td>\n",
       "      <td>92.000000</td>\n",
       "      <td>10.000000</td>\n",
       "      <td>250898.090000</td>\n",
       "      <td>4.000000</td>\n",
       "      <td>1.00000</td>\n",
       "      <td>1.000000</td>\n",
       "      <td>199992.480000</td>\n",
       "      <td>1.000000</td>\n",
       "    </tr>\n",
       "  </tbody>\n",
       "</table>\n",
       "</div>"
      ],
      "text/plain": [
       "        CreditScore           Age        Tenure        Balance  NumOfProducts  \\\n",
       "count  10000.000000  10000.000000  10000.000000   10000.000000   10000.000000   \n",
       "mean     650.528800     38.921800      5.012800   76485.889288       1.530200   \n",
       "std       96.653299     10.487806      2.892174   62397.405202       0.581654   \n",
       "min      350.000000     18.000000      0.000000       0.000000       1.000000   \n",
       "25%      584.000000     32.000000      3.000000       0.000000       1.000000   \n",
       "50%      652.000000     37.000000      5.000000   97198.540000       1.000000   \n",
       "75%      718.000000     44.000000      7.000000  127644.240000       2.000000   \n",
       "max      850.000000     92.000000     10.000000  250898.090000       4.000000   \n",
       "\n",
       "         HasCrCard  IsActiveMember  EstimatedSalary        Exited  \n",
       "count  10000.00000    10000.000000     10000.000000  10000.000000  \n",
       "mean       0.70550        0.515100    100090.239881      0.203700  \n",
       "std        0.45584        0.499797     57510.492818      0.402769  \n",
       "min        0.00000        0.000000        11.580000      0.000000  \n",
       "25%        0.00000        0.000000     51002.110000      0.000000  \n",
       "50%        1.00000        1.000000    100193.915000      0.000000  \n",
       "75%        1.00000        1.000000    149388.247500      0.000000  \n",
       "max        1.00000        1.000000    199992.480000      1.000000  "
      ]
     },
     "execution_count": 9,
     "metadata": {},
     "output_type": "execute_result"
    }
   ],
   "source": [
    "data.describe()"
   ]
  },
  {
   "cell_type": "code",
   "execution_count": 10,
   "id": "20eca0ba",
   "metadata": {
    "execution": {
     "iopub.execute_input": "2023-11-05T12:26:04.858815Z",
     "iopub.status.busy": "2023-11-05T12:26:04.857794Z",
     "iopub.status.idle": "2023-11-05T12:26:04.864572Z",
     "shell.execute_reply": "2023-11-05T12:26:04.863608Z"
    },
    "id": "7a60795b",
    "outputId": "8493d90e-5c73-4e70-c108-a3fb55718aeb",
    "papermill": {
     "duration": 0.033238,
     "end_time": "2023-11-05T12:26:04.866454",
     "exception": false,
     "start_time": "2023-11-05T12:26:04.833216",
     "status": "completed"
    },
    "tags": []
   },
   "outputs": [
    {
     "data": {
      "text/plain": [
       "Index(['CreditScore', 'Geography', 'Gender', 'Age', 'Tenure', 'Balance',\n",
       "       'NumOfProducts', 'HasCrCard', 'IsActiveMember', 'EstimatedSalary',\n",
       "       'Exited'],\n",
       "      dtype='object')"
      ]
     },
     "execution_count": 10,
     "metadata": {},
     "output_type": "execute_result"
    }
   ],
   "source": [
    "data.columns"
   ]
  },
  {
   "cell_type": "code",
   "execution_count": 11,
   "id": "8e78d9b6",
   "metadata": {
    "execution": {
     "iopub.execute_input": "2023-11-05T12:26:04.915868Z",
     "iopub.status.busy": "2023-11-05T12:26:04.914766Z",
     "iopub.status.idle": "2023-11-05T12:26:04.922556Z",
     "shell.execute_reply": "2023-11-05T12:26:04.921406Z"
    },
    "id": "51fd147b",
    "outputId": "f9cfe171-8a87-4511-bfd6-10f575e8d80d",
    "papermill": {
     "duration": 0.034878,
     "end_time": "2023-11-05T12:26:04.924769",
     "exception": false,
     "start_time": "2023-11-05T12:26:04.889891",
     "status": "completed"
    },
    "tags": []
   },
   "outputs": [
    {
     "name": "stdout",
     "output_type": "stream",
     "text": [
      "['France' 'Spain' 'Germany']\n",
      "['Female' 'Male']\n"
     ]
    }
   ],
   "source": [
    "print(pd.unique(data[\"Geography\"]))\n",
    "print(pd.unique(data[\"Gender\"]))"
   ]
  },
  {
   "cell_type": "code",
   "execution_count": 12,
   "id": "1de58279",
   "metadata": {
    "execution": {
     "iopub.execute_input": "2023-11-05T12:26:04.974601Z",
     "iopub.status.busy": "2023-11-05T12:26:04.973441Z",
     "iopub.status.idle": "2023-11-05T12:26:04.981708Z",
     "shell.execute_reply": "2023-11-05T12:26:04.980909Z"
    },
    "id": "98490473",
    "papermill": {
     "duration": 0.035394,
     "end_time": "2023-11-05T12:26:04.983752",
     "exception": false,
     "start_time": "2023-11-05T12:26:04.948358",
     "status": "completed"
    },
    "tags": []
   },
   "outputs": [],
   "source": [
    "# Analizing of target\n",
    "data[\"Exited\"].value_counts()\n",
    "churn = data.loc[data[\"Exited\"]== 1]\n",
    "not_churn = data.loc[data[\"Exited\"]== 0]"
   ]
  },
  {
   "cell_type": "markdown",
   "id": "80db8b44",
   "metadata": {
    "id": "JJF9yvXX-cZH",
    "papermill": {
     "duration": 0.02318,
     "end_time": "2023-11-05T12:26:05.030734",
     "exception": false,
     "start_time": "2023-11-05T12:26:05.007554",
     "status": "completed"
    },
    "tags": []
   },
   "source": [
    "## hist charts"
   ]
  },
  {
   "cell_type": "markdown",
   "id": "3c2fb50d",
   "metadata": {
    "id": "6f8e05da",
    "papermill": {
     "duration": 0.023656,
     "end_time": "2023-11-05T12:26:05.077822",
     "exception": false,
     "start_time": "2023-11-05T12:26:05.054166",
     "status": "completed"
    },
    "tags": []
   },
   "source": [
    "# CreditScore"
   ]
  },
  {
   "cell_type": "code",
   "execution_count": 13,
   "id": "7a9ec9d8",
   "metadata": {
    "execution": {
     "iopub.execute_input": "2023-11-05T12:26:05.126841Z",
     "iopub.status.busy": "2023-11-05T12:26:05.126088Z",
     "iopub.status.idle": "2023-11-05T12:26:05.136441Z",
     "shell.execute_reply": "2023-11-05T12:26:05.135467Z"
    },
    "id": "9d1690a8",
    "outputId": "a10e8384-0ce4-4012-ae40-61ff57fe4f20",
    "papermill": {
     "duration": 0.037565,
     "end_time": "2023-11-05T12:26:05.138630",
     "exception": false,
     "start_time": "2023-11-05T12:26:05.101065",
     "status": "completed"
    },
    "tags": []
   },
   "outputs": [
    {
     "data": {
      "text/plain": [
       "count    7963.000000\n",
       "mean      651.853196\n",
       "std        95.653837\n",
       "min       405.000000\n",
       "25%       585.000000\n",
       "50%       653.000000\n",
       "75%       718.000000\n",
       "max       850.000000\n",
       "Name: CreditScore, dtype: float64"
      ]
     },
     "execution_count": 13,
     "metadata": {},
     "output_type": "execute_result"
    }
   ],
   "source": [
    "not_churn[\"CreditScore\"].describe()"
   ]
  },
  {
   "cell_type": "code",
   "execution_count": 14,
   "id": "be10c895",
   "metadata": {
    "execution": {
     "iopub.execute_input": "2023-11-05T12:26:05.189962Z",
     "iopub.status.busy": "2023-11-05T12:26:05.189313Z",
     "iopub.status.idle": "2023-11-05T12:26:05.198648Z",
     "shell.execute_reply": "2023-11-05T12:26:05.197820Z"
    },
    "id": "115dab58",
    "outputId": "e10d76d6-c7e6-4b01-ca54-921d1ef55e19",
    "papermill": {
     "duration": 0.037474,
     "end_time": "2023-11-05T12:26:05.200579",
     "exception": false,
     "start_time": "2023-11-05T12:26:05.163105",
     "status": "completed"
    },
    "tags": []
   },
   "outputs": [
    {
     "data": {
      "text/plain": [
       "count    2037.000000\n",
       "mean      645.351497\n",
       "std       100.321503\n",
       "min       350.000000\n",
       "25%       578.000000\n",
       "50%       646.000000\n",
       "75%       716.000000\n",
       "max       850.000000\n",
       "Name: CreditScore, dtype: float64"
      ]
     },
     "execution_count": 14,
     "metadata": {},
     "output_type": "execute_result"
    }
   ],
   "source": [
    "churn[\"CreditScore\"].describe()"
   ]
  },
  {
   "cell_type": "code",
   "execution_count": 15,
   "id": "8d420308",
   "metadata": {
    "execution": {
     "iopub.execute_input": "2023-11-05T12:26:05.250294Z",
     "iopub.status.busy": "2023-11-05T12:26:05.249698Z",
     "iopub.status.idle": "2023-11-05T12:26:05.655797Z",
     "shell.execute_reply": "2023-11-05T12:26:05.654709Z"
    },
    "id": "f5474156",
    "outputId": "f57c064e-4b9b-451d-8896-4e0d8c6b5487",
    "papermill": {
     "duration": 0.433394,
     "end_time": "2023-11-05T12:26:05.657886",
     "exception": false,
     "start_time": "2023-11-05T12:26:05.224492",
     "status": "completed"
    },
    "tags": []
   },
   "outputs": [
    {
     "data": {
      "image/png": "[encoded data removed]",
      "text/plain": [
       "<Figure size 1200x400 with 2 Axes>"
      ]
     },
     "metadata": {},
     "output_type": "display_data"
    }
   ],
   "source": [
    "pyplot.figure(figsize=(12,4))\n",
    "\n",
    "pyplot.subplot(1,2,1)\n",
    "pyplot.xlabel(\"CreditScore\")\n",
    "pyplot.hist(not_churn[\"CreditScore\"],bins=15,alpha=0.7, label=\"not churn\")\n",
    "pyplot.legend(loc=\"upper right\")\n",
    "\n",
    "pyplot.subplot(1,2,2)\n",
    "pyplot.xlabel(\"CreditScore\")\n",
    "pyplot.hist(churn[\"CreditScore\"],bins=15,alpha=0.7, label=\"churn\", color=\"red\")\n",
    "pyplot.legend(loc=\"upper right\")\n",
    "\n",
    "pyplot.show()"
   ]
  },
  {
   "cell_type": "markdown",
   "id": "65c52614",
   "metadata": {
    "id": "110c95b1",
    "papermill": {
     "duration": 0.024645,
     "end_time": "2023-11-05T12:26:05.707043",
     "exception": false,
     "start_time": "2023-11-05T12:26:05.682398",
     "status": "completed"
    },
    "tags": []
   },
   "source": [
    "# Geography"
   ]
  },
  {
   "cell_type": "code",
   "execution_count": 16,
   "id": "a0d8b7fc",
   "metadata": {
    "execution": {
     "iopub.execute_input": "2023-11-05T12:26:05.757308Z",
     "iopub.status.busy": "2023-11-05T12:26:05.756926Z",
     "iopub.status.idle": "2023-11-05T12:26:05.767592Z",
     "shell.execute_reply": "2023-11-05T12:26:05.766694Z"
    },
    "id": "3ed343a5",
    "outputId": "451e3e9f-0b62-47a7-f3ff-eac84dfeb8f9",
    "papermill": {
     "duration": 0.038479,
     "end_time": "2023-11-05T12:26:05.769749",
     "exception": false,
     "start_time": "2023-11-05T12:26:05.731270",
     "status": "completed"
    },
    "tags": []
   },
   "outputs": [
    {
     "data": {
      "text/plain": [
       "count       7963\n",
       "unique         3\n",
       "top       France\n",
       "freq        4204\n",
       "Name: Geography, dtype: object"
      ]
     },
     "execution_count": 16,
     "metadata": {},
     "output_type": "execute_result"
    }
   ],
   "source": [
    "not_churn[\"Geography\"].describe()"
   ]
  },
  {
   "cell_type": "code",
   "execution_count": 17,
   "id": "af725f06",
   "metadata": {
    "execution": {
     "iopub.execute_input": "2023-11-05T12:26:05.820316Z",
     "iopub.status.busy": "2023-11-05T12:26:05.819967Z",
     "iopub.status.idle": "2023-11-05T12:26:05.828802Z",
     "shell.execute_reply": "2023-11-05T12:26:05.827834Z"
    },
    "id": "afb800d1",
    "outputId": "60139ad6-c6f1-4b3b-e1c8-893c418df91a",
    "papermill": {
     "duration": 0.036607,
     "end_time": "2023-11-05T12:26:05.830995",
     "exception": false,
     "start_time": "2023-11-05T12:26:05.794388",
     "status": "completed"
    },
    "tags": []
   },
   "outputs": [
    {
     "data": {
      "text/plain": [
       "count        2037\n",
       "unique          3\n",
       "top       Germany\n",
       "freq          814\n",
       "Name: Geography, dtype: object"
      ]
     },
     "execution_count": 17,
     "metadata": {},
     "output_type": "execute_result"
    }
   ],
   "source": [
    "churn[\"Geography\"].describe()"
   ]
  },
  {
   "cell_type": "code",
   "execution_count": 18,
   "id": "5251df31",
   "metadata": {
    "execution": {
     "iopub.execute_input": "2023-11-05T12:26:05.881397Z",
     "iopub.status.busy": "2023-11-05T12:26:05.881023Z",
     "iopub.status.idle": "2023-11-05T12:26:06.247494Z",
     "shell.execute_reply": "2023-11-05T12:26:06.246411Z"
    },
    "id": "3d3120ec",
    "outputId": "8579bf5e-3577-466a-a0cd-8aab62827c10",
    "papermill": {
     "duration": 0.394637,
     "end_time": "2023-11-05T12:26:06.250129",
     "exception": false,
     "start_time": "2023-11-05T12:26:05.855492",
     "status": "completed"
    },
    "tags": []
   },
   "outputs": [
    {
     "data": {
      "image/png": "[encoded data removed]",
      "text/plain": [
       "<Figure size 1200x400 with 2 Axes>"
      ]
     },
     "metadata": {},
     "output_type": "display_data"
    }
   ],
   "source": [
    "pyplot.figure(figsize=(12,4))\n",
    "\n",
    "pyplot.subplot(1,2,1)\n",
    "pyplot.xlabel(\"Geography\")\n",
    "pyplot.hist(not_churn[\"Geography\"],bins=15,alpha=0.7, label=\"not churn\")\n",
    "pyplot.legend(loc=\"upper right\")\n",
    "\n",
    "pyplot.subplot(1,2,2)\n",
    "pyplot.xlabel(\"Geography\")\n",
    "pyplot.hist(churn[\"Geography\"],bins=15,alpha=0.7, label=\"churn\", color=\"red\")\n",
    "pyplot.legend(loc=\"upper right\")\n",
    "\n",
    "pyplot.show()\n",
    "\n",
    "# France is the most not churn\n",
    "# Germany is the most churn"
   ]
  },
  {
   "cell_type": "markdown",
   "id": "4c8fcc29",
   "metadata": {
    "id": "a8adc4fe",
    "papermill": {
     "duration": 0.027799,
     "end_time": "2023-11-05T12:26:06.304573",
     "exception": false,
     "start_time": "2023-11-05T12:26:06.276774",
     "status": "completed"
    },
    "tags": []
   },
   "source": [
    "# Gender"
   ]
  },
  {
   "cell_type": "code",
   "execution_count": 19,
   "id": "e3395b31",
   "metadata": {
    "execution": {
     "iopub.execute_input": "2023-11-05T12:26:06.361747Z",
     "iopub.status.busy": "2023-11-05T12:26:06.361393Z",
     "iopub.status.idle": "2023-11-05T12:26:06.369361Z",
     "shell.execute_reply": "2023-11-05T12:26:06.368357Z"
    },
    "id": "c359ad18",
    "outputId": "aafaedc4-822e-4558-8c76-dc9d977ab38e",
    "papermill": {
     "duration": 0.03674,
     "end_time": "2023-11-05T12:26:06.371552",
     "exception": false,
     "start_time": "2023-11-05T12:26:06.334812",
     "status": "completed"
    },
    "tags": []
   },
   "outputs": [
    {
     "data": {
      "text/plain": [
       "Gender\n",
       "Male      4559\n",
       "Female    3404\n",
       "Name: count, dtype: int64"
      ]
     },
     "execution_count": 19,
     "metadata": {},
     "output_type": "execute_result"
    }
   ],
   "source": [
    "not_churn.Gender.value_counts()"
   ]
  },
  {
   "cell_type": "code",
   "execution_count": 20,
   "id": "79be65ba",
   "metadata": {
    "execution": {
     "iopub.execute_input": "2023-11-05T12:26:06.435733Z",
     "iopub.status.busy": "2023-11-05T12:26:06.435027Z",
     "iopub.status.idle": "2023-11-05T12:26:06.443242Z",
     "shell.execute_reply": "2023-11-05T12:26:06.442400Z"
    },
    "id": "8715e04c",
    "outputId": "3b634284-68cf-4490-b5c4-64d35c99d98b",
    "papermill": {
     "duration": 0.043948,
     "end_time": "2023-11-05T12:26:06.445993",
     "exception": false,
     "start_time": "2023-11-05T12:26:06.402045",
     "status": "completed"
    },
    "tags": []
   },
   "outputs": [
    {
     "data": {
      "text/plain": [
       "Gender\n",
       "Female    1139\n",
       "Male       898\n",
       "Name: count, dtype: int64"
      ]
     },
     "execution_count": 20,
     "metadata": {},
     "output_type": "execute_result"
    }
   ],
   "source": [
    "churn.Gender.value_counts()"
   ]
  },
  {
   "cell_type": "code",
   "execution_count": 21,
   "id": "b254d29c",
   "metadata": {
    "execution": {
     "iopub.execute_input": "2023-11-05T12:26:06.511798Z",
     "iopub.status.busy": "2023-11-05T12:26:06.510994Z",
     "iopub.status.idle": "2023-11-05T12:26:06.838254Z",
     "shell.execute_reply": "2023-11-05T12:26:06.837159Z"
    },
    "id": "ad401c73",
    "outputId": "2de01c50-f4a6-471e-e61b-19b4dda2c828",
    "papermill": {
     "duration": 0.360364,
     "end_time": "2023-11-05T12:26:06.840488",
     "exception": false,
     "start_time": "2023-11-05T12:26:06.480124",
     "status": "completed"
    },
    "tags": []
   },
   "outputs": [
    {
     "data": {
      "image/png": "[encoded data removed]",
      "text/plain": [
       "<Figure size 1200x400 with 2 Axes>"
      ]
     },
     "metadata": {},
     "output_type": "display_data"
    }
   ],
   "source": [
    "pyplot.figure(figsize=(12,4))\n",
    "\n",
    "pyplot.subplot(1,2,1)\n",
    "pyplot.xlabel(\"Gender\")\n",
    "pyplot.hist(not_churn[\"Gender\"],bins=15,alpha=0.7, label=\"not churn\")\n",
    "pyplot.legend(loc=\"upper right\")\n",
    "\n",
    "pyplot.subplot(1,2,2)\n",
    "pyplot.xlabel(\"Gender\")\n",
    "pyplot.hist(churn[\"Gender\"],bins=15,alpha=0.7, label=\"churn\", color=\"red\")\n",
    "pyplot.legend(loc=\"upper right\")\n",
    "\n",
    "pyplot.show()"
   ]
  },
  {
   "cell_type": "markdown",
   "id": "fe4790af",
   "metadata": {
    "id": "89626065",
    "papermill": {
     "duration": 0.025434,
     "end_time": "2023-11-05T12:26:06.891587",
     "exception": false,
     "start_time": "2023-11-05T12:26:06.866153",
     "status": "completed"
    },
    "tags": []
   },
   "source": [
    "# Age"
   ]
  },
  {
   "cell_type": "code",
   "execution_count": 22,
   "id": "e69e3968",
   "metadata": {
    "execution": {
     "iopub.execute_input": "2023-11-05T12:26:06.944546Z",
     "iopub.status.busy": "2023-11-05T12:26:06.943826Z",
     "iopub.status.idle": "2023-11-05T12:26:06.953603Z",
     "shell.execute_reply": "2023-11-05T12:26:06.952790Z"
    },
    "id": "07314761",
    "outputId": "ec10db86-ff05-485a-9894-7ca146bfc544",
    "papermill": {
     "duration": 0.038498,
     "end_time": "2023-11-05T12:26:06.955619",
     "exception": false,
     "start_time": "2023-11-05T12:26:06.917121",
     "status": "completed"
    },
    "tags": []
   },
   "outputs": [
    {
     "data": {
      "text/plain": [
       "count    7963.000000\n",
       "mean       37.408389\n",
       "std        10.125363\n",
       "min        18.000000\n",
       "25%        31.000000\n",
       "50%        36.000000\n",
       "75%        41.000000\n",
       "max        92.000000\n",
       "Name: Age, dtype: float64"
      ]
     },
     "execution_count": 22,
     "metadata": {},
     "output_type": "execute_result"
    }
   ],
   "source": [
    "not_churn[\"Age\"].describe()"
   ]
  },
  {
   "cell_type": "code",
   "execution_count": 23,
   "id": "a7a49c13",
   "metadata": {
    "execution": {
     "iopub.execute_input": "2023-11-05T12:26:07.008852Z",
     "iopub.status.busy": "2023-11-05T12:26:07.008091Z",
     "iopub.status.idle": "2023-11-05T12:26:07.017631Z",
     "shell.execute_reply": "2023-11-05T12:26:07.016820Z"
    },
    "id": "abe2993b",
    "outputId": "5d52dbd7-287f-45b7-c6cc-f28b38965f0a",
    "papermill": {
     "duration": 0.038699,
     "end_time": "2023-11-05T12:26:07.019785",
     "exception": false,
     "start_time": "2023-11-05T12:26:06.981086",
     "status": "completed"
    },
    "tags": []
   },
   "outputs": [
    {
     "data": {
      "text/plain": [
       "count    2037.000000\n",
       "mean       44.837997\n",
       "std         9.761562\n",
       "min        18.000000\n",
       "25%        38.000000\n",
       "50%        45.000000\n",
       "75%        51.000000\n",
       "max        84.000000\n",
       "Name: Age, dtype: float64"
      ]
     },
     "execution_count": 23,
     "metadata": {},
     "output_type": "execute_result"
    }
   ],
   "source": [
    "churn[\"Age\"].describe()"
   ]
  },
  {
   "cell_type": "code",
   "execution_count": 24,
   "id": "4c4fb7c8",
   "metadata": {
    "execution": {
     "iopub.execute_input": "2023-11-05T12:26:07.074169Z",
     "iopub.status.busy": "2023-11-05T12:26:07.073442Z",
     "iopub.status.idle": "2023-11-05T12:26:07.503469Z",
     "shell.execute_reply": "2023-11-05T12:26:07.502344Z"
    },
    "id": "a81638c2",
    "outputId": "ac10f43a-757e-4a8c-9a6c-72681c200988",
    "papermill": {
     "duration": 0.459521,
     "end_time": "2023-11-05T12:26:07.505870",
     "exception": false,
     "start_time": "2023-11-05T12:26:07.046349",
     "status": "completed"
    },
    "tags": []
   },
   "outputs": [
    {
     "data": {
      "image/png": "[encoded data removed]",
      "text/plain": [
       "<Figure size 1200x400 with 2 Axes>"
      ]
     },
     "metadata": {},
     "output_type": "display_data"
    }
   ],
   "source": [
    "pyplot.figure(figsize=(12,4))\n",
    "\n",
    "pyplot.subplot(1,2,1)\n",
    "pyplot.xlabel(\"Age\")\n",
    "pyplot.hist(not_churn[\"Age\"],bins=15,alpha=0.7, label=\"not churn\")\n",
    "pyplot.legend(loc=\"upper right\")\n",
    "\n",
    "pyplot.subplot(1,2,2)\n",
    "pyplot.xlabel(\"Age\")\n",
    "pyplot.hist(churn[\"Age\"],bins=15,alpha=0.7, label=\"churn\", color=\"red\")\n",
    "pyplot.legend(loc=\"upper right\")\n",
    "\n",
    "pyplot.show()"
   ]
  },
  {
   "cell_type": "markdown",
   "id": "4b761719",
   "metadata": {
    "id": "8cd9d4af",
    "papermill": {
     "duration": 0.025593,
     "end_time": "2023-11-05T12:26:07.557544",
     "exception": false,
     "start_time": "2023-11-05T12:26:07.531951",
     "status": "completed"
    },
    "tags": []
   },
   "source": [
    "# Tenure"
   ]
  },
  {
   "cell_type": "code",
   "execution_count": 25,
   "id": "38b7f501",
   "metadata": {
    "execution": {
     "iopub.execute_input": "2023-11-05T12:26:07.611419Z",
     "iopub.status.busy": "2023-11-05T12:26:07.610480Z",
     "iopub.status.idle": "2023-11-05T12:26:07.620742Z",
     "shell.execute_reply": "2023-11-05T12:26:07.619826Z"
    },
    "id": "4dd14a46",
    "outputId": "477cee60-a844-4177-bc59-5a0b0f2e96ad",
    "papermill": {
     "duration": 0.039365,
     "end_time": "2023-11-05T12:26:07.622621",
     "exception": false,
     "start_time": "2023-11-05T12:26:07.583256",
     "status": "completed"
    },
    "tags": []
   },
   "outputs": [
    {
     "data": {
      "text/plain": [
       "count    7963.000000\n",
       "mean        5.033279\n",
       "std         2.880658\n",
       "min         0.000000\n",
       "25%         3.000000\n",
       "50%         5.000000\n",
       "75%         7.000000\n",
       "max        10.000000\n",
       "Name: Tenure, dtype: float64"
      ]
     },
     "execution_count": 25,
     "metadata": {},
     "output_type": "execute_result"
    }
   ],
   "source": [
    "not_churn[\"Tenure\"].describe()"
   ]
  },
  {
   "cell_type": "code",
   "execution_count": 26,
   "id": "37bfad78",
   "metadata": {
    "execution": {
     "iopub.execute_input": "2023-11-05T12:26:07.677324Z",
     "iopub.status.busy": "2023-11-05T12:26:07.676972Z",
     "iopub.status.idle": "2023-11-05T12:26:07.687292Z",
     "shell.execute_reply": "2023-11-05T12:26:07.686273Z"
    },
    "id": "c4abbe8e",
    "outputId": "b47d1c58-bd96-4973-a978-f1da28e564b3",
    "papermill": {
     "duration": 0.040246,
     "end_time": "2023-11-05T12:26:07.689405",
     "exception": false,
     "start_time": "2023-11-05T12:26:07.649159",
     "status": "completed"
    },
    "tags": []
   },
   "outputs": [
    {
     "data": {
      "text/plain": [
       "count    2037.000000\n",
       "mean        4.932744\n",
       "std         2.936106\n",
       "min         0.000000\n",
       "25%         2.000000\n",
       "50%         5.000000\n",
       "75%         8.000000\n",
       "max        10.000000\n",
       "Name: Tenure, dtype: float64"
      ]
     },
     "execution_count": 26,
     "metadata": {},
     "output_type": "execute_result"
    }
   ],
   "source": [
    "churn[\"Tenure\"].describe()"
   ]
  },
  {
   "cell_type": "code",
   "execution_count": 27,
   "id": "6f230084",
   "metadata": {
    "execution": {
     "iopub.execute_input": "2023-11-05T12:26:07.744377Z",
     "iopub.status.busy": "2023-11-05T12:26:07.743381Z",
     "iopub.status.idle": "2023-11-05T12:26:08.265612Z",
     "shell.execute_reply": "2023-11-05T12:26:08.264546Z"
    },
    "id": "e3a31f32",
    "outputId": "f0a45392-64be-4470-c6c0-7b390e9a7040",
    "papermill": {
     "duration": 0.551747,
     "end_time": "2023-11-05T12:26:08.267674",
     "exception": false,
     "start_time": "2023-11-05T12:26:07.715927",
     "status": "completed"
    },
    "tags": []
   },
   "outputs": [
    {
     "data": {
      "image/png": "[encoded data removed]",
      "text/plain": [
       "<Figure size 1200x400 with 2 Axes>"
      ]
     },
     "metadata": {},
     "output_type": "display_data"
    }
   ],
   "source": [
    "pyplot.figure(figsize=(12,4))\n",
    "\n",
    "pyplot.subplot(1,2,1)\n",
    "pyplot.xlabel(\"Tenure\")\n",
    "pyplot.hist(not_churn[\"Tenure\"],bins=15,alpha=0.7, label=\"not churn\")\n",
    "pyplot.legend(loc=\"upper right\")\n",
    "\n",
    "pyplot.subplot(1,2,2)\n",
    "pyplot.xlabel(\"Tenure\")\n",
    "pyplot.hist(churn[\"Tenure\"],bins=15,alpha=0.7, label=\"churn\", color=\"red\")\n",
    "pyplot.legend(loc=\"upper right\")\n",
    "\n",
    "pyplot.show()"
   ]
  },
  {
   "cell_type": "markdown",
   "id": "60ea2613",
   "metadata": {
    "id": "1615cf71",
    "papermill": {
     "duration": 0.02708,
     "end_time": "2023-11-05T12:26:08.321493",
     "exception": false,
     "start_time": "2023-11-05T12:26:08.294413",
     "status": "completed"
    },
    "tags": []
   },
   "source": [
    "# Balance"
   ]
  },
  {
   "cell_type": "code",
   "execution_count": 28,
   "id": "2bf70a4e",
   "metadata": {
    "execution": {
     "iopub.execute_input": "2023-11-05T12:26:08.377119Z",
     "iopub.status.busy": "2023-11-05T12:26:08.376481Z",
     "iopub.status.idle": "2023-11-05T12:26:08.386446Z",
     "shell.execute_reply": "2023-11-05T12:26:08.385513Z"
    },
    "id": "234c6bd4",
    "outputId": "dd068bf6-ced0-4e06-c97d-fa8dccdabe1b",
    "papermill": {
     "duration": 0.040207,
     "end_time": "2023-11-05T12:26:08.388369",
     "exception": false,
     "start_time": "2023-11-05T12:26:08.348162",
     "status": "completed"
    },
    "tags": []
   },
   "outputs": [
    {
     "data": {
      "text/plain": [
       "count      7963.000000\n",
       "mean      72745.296779\n",
       "std       62848.040701\n",
       "min           0.000000\n",
       "25%           0.000000\n",
       "50%       92072.680000\n",
       "75%      126410.280000\n",
       "max      221532.800000\n",
       "Name: Balance, dtype: float64"
      ]
     },
     "execution_count": 28,
     "metadata": {},
     "output_type": "execute_result"
    }
   ],
   "source": [
    "not_churn[\"Balance\"].describe()"
   ]
  },
  {
   "cell_type": "code",
   "execution_count": 29,
   "id": "9416388e",
   "metadata": {
    "execution": {
     "iopub.execute_input": "2023-11-05T12:26:08.443967Z",
     "iopub.status.busy": "2023-11-05T12:26:08.443317Z",
     "iopub.status.idle": "2023-11-05T12:26:08.452769Z",
     "shell.execute_reply": "2023-11-05T12:26:08.451814Z"
    },
    "id": "340f3f9f",
    "outputId": "84d6f514-0a7c-445f-eb7d-5ec4ae79397c",
    "papermill": {
     "duration": 0.03956,
     "end_time": "2023-11-05T12:26:08.454664",
     "exception": false,
     "start_time": "2023-11-05T12:26:08.415104",
     "status": "completed"
    },
    "tags": []
   },
   "outputs": [
    {
     "data": {
      "text/plain": [
       "count      2037.000000\n",
       "mean      91108.539337\n",
       "std       58360.794816\n",
       "min           0.000000\n",
       "25%       38340.020000\n",
       "50%      109349.290000\n",
       "75%      131433.330000\n",
       "max      250898.090000\n",
       "Name: Balance, dtype: float64"
      ]
     },
     "execution_count": 29,
     "metadata": {},
     "output_type": "execute_result"
    }
   ],
   "source": [
    "churn[\"Balance\"].describe()"
   ]
  },
  {
   "cell_type": "code",
   "execution_count": 30,
   "id": "eea637b0",
   "metadata": {
    "execution": {
     "iopub.execute_input": "2023-11-05T12:26:08.511046Z",
     "iopub.status.busy": "2023-11-05T12:26:08.510441Z",
     "iopub.status.idle": "2023-11-05T12:26:08.894368Z",
     "shell.execute_reply": "2023-11-05T12:26:08.893379Z"
    },
    "id": "4634dbbc",
    "outputId": "3b574688-4af3-42d7-96a1-6c296668ba09",
    "papermill": {
     "duration": 0.414271,
     "end_time": "2023-11-05T12:26:08.896516",
     "exception": false,
     "start_time": "2023-11-05T12:26:08.482245",
     "status": "completed"
    },
    "tags": []
   },
   "outputs": [
    {
     "data": {
      "image/png": "[encoded data removed]",
      "text/plain": [
       "<Figure size 1200x400 with 2 Axes>"
      ]
     },
     "metadata": {},
     "output_type": "display_data"
    }
   ],
   "source": [
    "pyplot.figure(figsize=(12,4))\n",
    "\n",
    "pyplot.subplot(1,2,1)\n",
    "pyplot.xlabel(\"Balance\")\n",
    "pyplot.hist(not_churn[\"Balance\"],bins=15,alpha=0.7, label=\"not churn\")\n",
    "pyplot.legend(loc=\"upper right\")\n",
    "\n",
    "pyplot.subplot(1,2,2)\n",
    "pyplot.xlabel(\"Balance\")\n",
    "pyplot.hist(churn[\"Balance\"],bins=15,alpha=0.7, label=\"churn\", color=\"red\")\n",
    "pyplot.legend(loc=\"upper right\")\n",
    "\n",
    "pyplot.show()"
   ]
  },
  {
   "cell_type": "markdown",
   "id": "b2d93b10",
   "metadata": {
    "id": "8059c35d",
    "papermill": {
     "duration": 0.027229,
     "end_time": "2023-11-05T12:26:08.951206",
     "exception": false,
     "start_time": "2023-11-05T12:26:08.923977",
     "status": "completed"
    },
    "tags": []
   },
   "source": [
    "# \tNumOfProducts"
   ]
  },
  {
   "cell_type": "code",
   "execution_count": 31,
   "id": "5abebdf6",
   "metadata": {
    "execution": {
     "iopub.execute_input": "2023-11-05T12:26:09.007621Z",
     "iopub.status.busy": "2023-11-05T12:26:09.007248Z",
     "iopub.status.idle": "2023-11-05T12:26:09.016548Z",
     "shell.execute_reply": "2023-11-05T12:26:09.015702Z"
    },
    "id": "eaf23ce1",
    "outputId": "90ab6664-f205-42df-ae51-8eca6605cc8b",
    "papermill": {
     "duration": 0.03998,
     "end_time": "2023-11-05T12:26:09.018479",
     "exception": false,
     "start_time": "2023-11-05T12:26:08.978499",
     "status": "completed"
    },
    "tags": []
   },
   "outputs": [
    {
     "data": {
      "text/plain": [
       "count    7963.000000\n",
       "mean        1.544267\n",
       "std         0.509536\n",
       "min         1.000000\n",
       "25%         1.000000\n",
       "50%         2.000000\n",
       "75%         2.000000\n",
       "max         3.000000\n",
       "Name: NumOfProducts, dtype: float64"
      ]
     },
     "execution_count": 31,
     "metadata": {},
     "output_type": "execute_result"
    }
   ],
   "source": [
    "not_churn[\"NumOfProducts\"].describe()"
   ]
  },
  {
   "cell_type": "code",
   "execution_count": 32,
   "id": "764c1f4f",
   "metadata": {
    "execution": {
     "iopub.execute_input": "2023-11-05T12:26:09.075553Z",
     "iopub.status.busy": "2023-11-05T12:26:09.074684Z",
     "iopub.status.idle": "2023-11-05T12:26:09.083268Z",
     "shell.execute_reply": "2023-11-05T12:26:09.082569Z"
    },
    "id": "60b29120",
    "outputId": "5e794be5-47b3-4abd-cb09-44715795234b",
    "papermill": {
     "duration": 0.039147,
     "end_time": "2023-11-05T12:26:09.085255",
     "exception": false,
     "start_time": "2023-11-05T12:26:09.046108",
     "status": "completed"
    },
    "tags": []
   },
   "outputs": [
    {
     "data": {
      "text/plain": [
       "count    2037.000000\n",
       "mean        1.475209\n",
       "std         0.801521\n",
       "min         1.000000\n",
       "25%         1.000000\n",
       "50%         1.000000\n",
       "75%         2.000000\n",
       "max         4.000000\n",
       "Name: NumOfProducts, dtype: float64"
      ]
     },
     "execution_count": 32,
     "metadata": {},
     "output_type": "execute_result"
    }
   ],
   "source": [
    "churn[\"NumOfProducts\"].describe()"
   ]
  },
  {
   "cell_type": "code",
   "execution_count": 33,
   "id": "c62771ae",
   "metadata": {
    "execution": {
     "iopub.execute_input": "2023-11-05T12:26:09.142366Z",
     "iopub.status.busy": "2023-11-05T12:26:09.141731Z",
     "iopub.status.idle": "2023-11-05T12:26:09.578842Z",
     "shell.execute_reply": "2023-11-05T12:26:09.577581Z"
    },
    "id": "86d9f67b",
    "outputId": "b688970c-6c8a-4a4f-cb06-831cc0539bd5",
    "papermill": {
     "duration": 0.468231,
     "end_time": "2023-11-05T12:26:09.581071",
     "exception": false,
     "start_time": "2023-11-05T12:26:09.112840",
     "status": "completed"
    },
    "tags": []
   },
   "outputs": [
    {
     "data": {
      "image/png": "[encoded data removed]",
      "text/plain": [
       "<Figure size 1200x400 with 2 Axes>"
      ]
     },
     "metadata": {},
     "output_type": "display_data"
    }
   ],
   "source": [
    "pyplot.figure(figsize=(12,4))\n",
    "\n",
    "pyplot.subplot(1,2,1)\n",
    "pyplot.xlabel(\"NumOfProducts\")\n",
    "pyplot.hist(not_churn[\"NumOfProducts\"],bins=15,alpha=0.7, label=\"not churn\")\n",
    "pyplot.legend(loc=\"upper right\")\n",
    "\n",
    "pyplot.subplot(1,2,2)\n",
    "pyplot.xlabel(\"NumOfProducts\")\n",
    "pyplot.hist(churn[\"NumOfProducts\"],bins=15,alpha=0.7, label=\"churn\", color=\"red\")\n",
    "pyplot.legend(loc=\"upper right\")\n",
    "\n",
    "pyplot.show()"
   ]
  },
  {
   "cell_type": "markdown",
   "id": "1423d3d2",
   "metadata": {
    "id": "94b5bba8",
    "papermill": {
     "duration": 0.027874,
     "end_time": "2023-11-05T12:26:09.637275",
     "exception": false,
     "start_time": "2023-11-05T12:26:09.609401",
     "status": "completed"
    },
    "tags": []
   },
   "source": [
    "# HasCrCard"
   ]
  },
  {
   "cell_type": "code",
   "execution_count": 34,
   "id": "8609b9d7",
   "metadata": {
    "execution": {
     "iopub.execute_input": "2023-11-05T12:26:09.696599Z",
     "iopub.status.busy": "2023-11-05T12:26:09.696183Z",
     "iopub.status.idle": "2023-11-05T12:26:09.707091Z",
     "shell.execute_reply": "2023-11-05T12:26:09.706012Z"
    },
    "id": "7a29ec9b",
    "outputId": "19c0233d-bd8a-4693-b2ee-bcdc3b4b271d",
    "papermill": {
     "duration": 0.042525,
     "end_time": "2023-11-05T12:26:09.708894",
     "exception": false,
     "start_time": "2023-11-05T12:26:09.666369",
     "status": "completed"
    },
    "tags": []
   },
   "outputs": [
    {
     "data": {
      "text/plain": [
       "count    7963.000000\n",
       "mean        0.707146\n",
       "std         0.455101\n",
       "min         0.000000\n",
       "25%         0.000000\n",
       "50%         1.000000\n",
       "75%         1.000000\n",
       "max         1.000000\n",
       "Name: HasCrCard, dtype: float64"
      ]
     },
     "execution_count": 34,
     "metadata": {},
     "output_type": "execute_result"
    }
   ],
   "source": [
    "not_churn[\"HasCrCard\"].describe()"
   ]
  },
  {
   "cell_type": "code",
   "execution_count": 35,
   "id": "ea980e3e",
   "metadata": {
    "execution": {
     "iopub.execute_input": "2023-11-05T12:26:09.768409Z",
     "iopub.status.busy": "2023-11-05T12:26:09.767181Z",
     "iopub.status.idle": "2023-11-05T12:26:09.777691Z",
     "shell.execute_reply": "2023-11-05T12:26:09.776817Z"
    },
    "id": "c319138c",
    "outputId": "712a0ebb-090d-4d50-8a7e-72c27da8457f",
    "papermill": {
     "duration": 0.041996,
     "end_time": "2023-11-05T12:26:09.779660",
     "exception": false,
     "start_time": "2023-11-05T12:26:09.737664",
     "status": "completed"
    },
    "tags": []
   },
   "outputs": [
    {
     "data": {
      "text/plain": [
       "count    2037.000000\n",
       "mean        0.699067\n",
       "std         0.458776\n",
       "min         0.000000\n",
       "25%         0.000000\n",
       "50%         1.000000\n",
       "75%         1.000000\n",
       "max         1.000000\n",
       "Name: HasCrCard, dtype: float64"
      ]
     },
     "execution_count": 35,
     "metadata": {},
     "output_type": "execute_result"
    }
   ],
   "source": [
    "churn[\"HasCrCard\"].describe()"
   ]
  },
  {
   "cell_type": "code",
   "execution_count": 36,
   "id": "bc9f73dc",
   "metadata": {
    "execution": {
     "iopub.execute_input": "2023-11-05T12:26:09.838760Z",
     "iopub.status.busy": "2023-11-05T12:26:09.838362Z",
     "iopub.status.idle": "2023-11-05T12:26:10.254779Z",
     "shell.execute_reply": "2023-11-05T12:26:10.253713Z"
    },
    "id": "2a1e18cc",
    "outputId": "fb9d136f-6c2f-46ee-86e5-6a2320d51e86",
    "papermill": {
     "duration": 0.448606,
     "end_time": "2023-11-05T12:26:10.256990",
     "exception": false,
     "start_time": "2023-11-05T12:26:09.808384",
     "status": "completed"
    },
    "tags": []
   },
   "outputs": [
    {
     "data": {
      "image/png": "[encoded data removed]",
      "text/plain": [
       "<Figure size 1200x400 with 2 Axes>"
      ]
     },
     "metadata": {},
     "output_type": "display_data"
    }
   ],
   "source": [
    "pyplot.figure(figsize=(12,4))\n",
    "\n",
    "pyplot.subplot(1,2,1)\n",
    "pyplot.xlabel(\"HasCrCard\")\n",
    "pyplot.hist(not_churn[\"HasCrCard\"],bins=15,alpha=0.7, label=\"not churn\")\n",
    "pyplot.legend(loc=\"upper right\")\n",
    "\n",
    "pyplot.subplot(1,2,2)\n",
    "pyplot.xlabel(\"HasCrCard\")\n",
    "pyplot.hist(churn[\"HasCrCard\"],bins=15,alpha=0.7, label=\"churn\", color=\"red\")\n",
    "pyplot.legend(loc=\"upper right\")\n",
    "\n",
    "pyplot.show()"
   ]
  },
  {
   "cell_type": "markdown",
   "id": "17a35fe0",
   "metadata": {
    "id": "19062fea",
    "papermill": {
     "duration": 0.028626,
     "end_time": "2023-11-05T12:26:10.315039",
     "exception": false,
     "start_time": "2023-11-05T12:26:10.286413",
     "status": "completed"
    },
    "tags": []
   },
   "source": [
    "# IsActiveMember"
   ]
  },
  {
   "cell_type": "code",
   "execution_count": 37,
   "id": "7c412a70",
   "metadata": {
    "execution": {
     "iopub.execute_input": "2023-11-05T12:26:10.377170Z",
     "iopub.status.busy": "2023-11-05T12:26:10.376781Z",
     "iopub.status.idle": "2023-11-05T12:26:10.386251Z",
     "shell.execute_reply": "2023-11-05T12:26:10.385528Z"
    },
    "id": "ac49c5fc",
    "outputId": "7d86478e-6e16-4536-96a5-baeedb12b0be",
    "papermill": {
     "duration": 0.04242,
     "end_time": "2023-11-05T12:26:10.388071",
     "exception": false,
     "start_time": "2023-11-05T12:26:10.345651",
     "status": "completed"
    },
    "tags": []
   },
   "outputs": [
    {
     "data": {
      "text/plain": [
       "count    7963.000000\n",
       "mean        0.554565\n",
       "std         0.497045\n",
       "min         0.000000\n",
       "25%         0.000000\n",
       "50%         1.000000\n",
       "75%         1.000000\n",
       "max         1.000000\n",
       "Name: IsActiveMember, dtype: float64"
      ]
     },
     "execution_count": 37,
     "metadata": {},
     "output_type": "execute_result"
    }
   ],
   "source": [
    "not_churn[\"IsActiveMember\"].describe()"
   ]
  },
  {
   "cell_type": "code",
   "execution_count": 38,
   "id": "8213dfbb",
   "metadata": {
    "execution": {
     "iopub.execute_input": "2023-11-05T12:26:10.448462Z",
     "iopub.status.busy": "2023-11-05T12:26:10.447812Z",
     "iopub.status.idle": "2023-11-05T12:26:10.456452Z",
     "shell.execute_reply": "2023-11-05T12:26:10.455711Z"
    },
    "id": "4d8acf03",
    "outputId": "b3b66a64-704f-4759-fac0-04d699d1a7ff",
    "papermill": {
     "duration": 0.040754,
     "end_time": "2023-11-05T12:26:10.458231",
     "exception": false,
     "start_time": "2023-11-05T12:26:10.417477",
     "status": "completed"
    },
    "tags": []
   },
   "outputs": [
    {
     "data": {
      "text/plain": [
       "count    2037.000000\n",
       "mean        0.360825\n",
       "std         0.480358\n",
       "min         0.000000\n",
       "25%         0.000000\n",
       "50%         0.000000\n",
       "75%         1.000000\n",
       "max         1.000000\n",
       "Name: IsActiveMember, dtype: float64"
      ]
     },
     "execution_count": 38,
     "metadata": {},
     "output_type": "execute_result"
    }
   ],
   "source": [
    "churn[\"IsActiveMember\"].describe()"
   ]
  },
  {
   "cell_type": "code",
   "execution_count": 39,
   "id": "38d2415f",
   "metadata": {
    "execution": {
     "iopub.execute_input": "2023-11-05T12:26:10.518265Z",
     "iopub.status.busy": "2023-11-05T12:26:10.517411Z",
     "iopub.status.idle": "2023-11-05T12:26:10.906461Z",
     "shell.execute_reply": "2023-11-05T12:26:10.905411Z"
    },
    "id": "7f42ca68",
    "outputId": "68a6ffd1-236a-4d6a-e639-c1c9b9496ee7",
    "papermill": {
     "duration": 0.421165,
     "end_time": "2023-11-05T12:26:10.908532",
     "exception": false,
     "start_time": "2023-11-05T12:26:10.487367",
     "status": "completed"
    },
    "tags": []
   },
   "outputs": [
    {
     "data": {
      "image/png": "[encoded data removed]",
      "text/plain": [
       "<Figure size 1200x400 with 2 Axes>"
      ]
     },
     "metadata": {},
     "output_type": "display_data"
    }
   ],
   "source": [
    "pyplot.figure(figsize=(12,4))\n",
    "\n",
    "pyplot.subplot(1,2,1)\n",
    "pyplot.xlabel(\"IsActiveMember\")\n",
    "pyplot.hist(not_churn[\"IsActiveMember\"],bins=15,alpha=0.7, label=\"not churn\")\n",
    "pyplot.legend(loc=\"upper right\")\n",
    "\n",
    "pyplot.subplot(1,2,2)\n",
    "pyplot.xlabel(\"IsActiveMember\")\n",
    "pyplot.hist(churn[\"IsActiveMember\"],bins=15,alpha=0.7, label=\"churn\", color=\"red\")\n",
    "pyplot.legend(loc=\"upper right\")\n",
    "\n",
    "pyplot.show()"
   ]
  },
  {
   "cell_type": "markdown",
   "id": "965d986c",
   "metadata": {
    "id": "be536e84",
    "papermill": {
     "duration": 0.033555,
     "end_time": "2023-11-05T12:26:10.972166",
     "exception": false,
     "start_time": "2023-11-05T12:26:10.938611",
     "status": "completed"
    },
    "tags": []
   },
   "source": [
    "# EstimatedSalary"
   ]
  },
  {
   "cell_type": "code",
   "execution_count": 40,
   "id": "376236b6",
   "metadata": {
    "execution": {
     "iopub.execute_input": "2023-11-05T12:26:11.033138Z",
     "iopub.status.busy": "2023-11-05T12:26:11.032456Z",
     "iopub.status.idle": "2023-11-05T12:26:11.041581Z",
     "shell.execute_reply": "2023-11-05T12:26:11.040826Z"
    },
    "id": "dccbf7d9",
    "outputId": "a23881a0-ba56-4536-bb5a-f752daa66d01",
    "papermill": {
     "duration": 0.041861,
     "end_time": "2023-11-05T12:26:11.043435",
     "exception": false,
     "start_time": "2023-11-05T12:26:11.001574",
     "status": "completed"
    },
    "tags": []
   },
   "outputs": [
    {
     "data": {
      "text/plain": [
       "count      7963.000000\n",
       "mean      99738.391772\n",
       "std       57405.586966\n",
       "min          90.070000\n",
       "25%       50783.490000\n",
       "50%       99645.040000\n",
       "75%      148609.955000\n",
       "max      199992.480000\n",
       "Name: EstimatedSalary, dtype: float64"
      ]
     },
     "execution_count": 40,
     "metadata": {},
     "output_type": "execute_result"
    }
   ],
   "source": [
    "not_churn[\"EstimatedSalary\"].describe()"
   ]
  },
  {
   "cell_type": "code",
   "execution_count": 41,
   "id": "3a3b6733",
   "metadata": {
    "execution": {
     "iopub.execute_input": "2023-11-05T12:26:11.104451Z",
     "iopub.status.busy": "2023-11-05T12:26:11.103792Z",
     "iopub.status.idle": "2023-11-05T12:26:11.112481Z",
     "shell.execute_reply": "2023-11-05T12:26:11.111763Z"
    },
    "id": "415729fc",
    "outputId": "c17157b5-20ad-4d9c-ccc2-76382540aa2a",
    "papermill": {
     "duration": 0.041352,
     "end_time": "2023-11-05T12:26:11.114321",
     "exception": false,
     "start_time": "2023-11-05T12:26:11.072969",
     "status": "completed"
    },
    "tags": []
   },
   "outputs": [
    {
     "data": {
      "text/plain": [
       "count      2037.000000\n",
       "mean     101465.677531\n",
       "std       57912.418071\n",
       "min          11.580000\n",
       "25%       51907.720000\n",
       "50%      102460.840000\n",
       "75%      152422.910000\n",
       "max      199808.100000\n",
       "Name: EstimatedSalary, dtype: float64"
      ]
     },
     "execution_count": 41,
     "metadata": {},
     "output_type": "execute_result"
    }
   ],
   "source": [
    "churn[\"EstimatedSalary\"].describe()"
   ]
  },
  {
   "cell_type": "code",
   "execution_count": 42,
   "id": "81a11e59",
   "metadata": {
    "execution": {
     "iopub.execute_input": "2023-11-05T12:26:11.176004Z",
     "iopub.status.busy": "2023-11-05T12:26:11.175314Z",
     "iopub.status.idle": "2023-11-05T12:26:11.642866Z",
     "shell.execute_reply": "2023-11-05T12:26:11.641721Z"
    },
    "id": "ebedb818",
    "outputId": "8d33306c-d1e1-424f-fa54-f8016dabadc8",
    "papermill": {
     "duration": 0.501432,
     "end_time": "2023-11-05T12:26:11.645617",
     "exception": false,
     "start_time": "2023-11-05T12:26:11.144185",
     "status": "completed"
    },
    "tags": []
   },
   "outputs": [
    {
     "data": {
      "image/png": "[encoded data removed]",
      "text/plain": [
       "<Figure size 1600x700 with 2 Axes>"
      ]
     },
     "metadata": {},
     "output_type": "display_data"
    }
   ],
   "source": [
    "pyplot.figure(figsize=(16,7))\n",
    "\n",
    "pyplot.subplot(1,2,1)\n",
    "pyplot.xlabel(\"EstimatedSalary\")\n",
    "pyplot.hist(not_churn[\"EstimatedSalary\"],bins=15,alpha=0.7, label=\"not churn\")\n",
    "pyplot.legend(loc=\"upper right\")\n",
    "\n",
    "pyplot.subplot(1,2,2)\n",
    "pyplot.xlabel(\"EstimatedSalary\")\n",
    "pyplot.hist(churn[\"EstimatedSalary\"],bins=15,alpha=0.7, label=\"churn\", color=\"red\")\n",
    "pyplot.legend(loc=\"upper right\")\n",
    "\n",
    "pyplot.show()"
   ]
  },
  {
   "cell_type": "markdown",
   "id": "30363fee",
   "metadata": {
    "id": "NUiINZvvPZpR",
    "papermill": {
     "duration": 0.03036,
     "end_time": "2023-11-05T12:26:11.707886",
     "exception": false,
     "start_time": "2023-11-05T12:26:11.677526",
     "status": "completed"
    },
    "tags": []
   },
   "source": [
    "##Exited"
   ]
  },
  {
   "cell_type": "code",
   "execution_count": 43,
   "id": "d5b83b3b",
   "metadata": {
    "execution": {
     "iopub.execute_input": "2023-11-05T12:26:11.770592Z",
     "iopub.status.busy": "2023-11-05T12:26:11.769948Z",
     "iopub.status.idle": "2023-11-05T12:26:11.988690Z",
     "shell.execute_reply": "2023-11-05T12:26:11.987663Z"
    },
    "id": "Y-tAfcroPKDC",
    "outputId": "2cd73757-d51e-4577-c619-8b1e49c11601",
    "papermill": {
     "duration": 0.252454,
     "end_time": "2023-11-05T12:26:11.990901",
     "exception": false,
     "start_time": "2023-11-05T12:26:11.738447",
     "status": "completed"
    },
    "tags": []
   },
   "outputs": [
    {
     "data": {
      "image/png": "[encoded data removed]",
      "text/plain": [
       "<Figure size 640x480 with 1 Axes>"
      ]
     },
     "metadata": {},
     "output_type": "display_data"
    }
   ],
   "source": [
    "total=float(len(data))\n",
    "ax=sns.countplot(x=\"Exited\",data=data)\n",
    "for i in ax.patches:\n",
    "    height=i.get_height()\n",
    "    ax.text(i.get_x()+i.get_width()/2.,height + 3\n",
    "           ,'{0:.0%}'.format(height/total),ha=\"center\")"
   ]
  },
  {
   "cell_type": "markdown",
   "id": "5848981e",
   "metadata": {
    "id": "48CToCuq-D8m",
    "papermill": {
     "duration": 0.030377,
     "end_time": "2023-11-05T12:26:12.051688",
     "exception": false,
     "start_time": "2023-11-05T12:26:12.021311",
     "status": "completed"
    },
    "tags": []
   },
   "source": [
    "## crosstab charts"
   ]
  },
  {
   "cell_type": "code",
   "execution_count": 44,
   "id": "84eb3dba",
   "metadata": {
    "execution": {
     "iopub.execute_input": "2023-11-05T12:26:12.113732Z",
     "iopub.status.busy": "2023-11-05T12:26:12.113373Z",
     "iopub.status.idle": "2023-11-05T12:26:12.388476Z",
     "shell.execute_reply": "2023-11-05T12:26:12.387545Z"
    },
    "id": "3_UeMloqNFBQ",
    "outputId": "93370f46-ba1b-4c8f-a4be-c7b8cea4f14d",
    "papermill": {
     "duration": 0.308861,
     "end_time": "2023-11-05T12:26:12.390671",
     "exception": false,
     "start_time": "2023-11-05T12:26:12.081810",
     "status": "completed"
    },
    "tags": []
   },
   "outputs": [
    {
     "data": {
      "text/plain": [
       "<Axes: xlabel='Geography'>"
      ]
     },
     "execution_count": 44,
     "metadata": {},
     "output_type": "execute_result"
    },
    {
     "data": {
      "image/png": "[encoded data removed]",
      "text/plain": [
       "<Figure size 640x480 with 1 Axes>"
      ]
     },
     "metadata": {},
     "output_type": "display_data"
    }
   ],
   "source": [
    "crosstab_01 = pd.crosstab(data.Geography ,data.Exited )\n",
    "crosstab_01.plot(kind = \"bar\" , stacked = True)"
   ]
  },
  {
   "cell_type": "code",
   "execution_count": 45,
   "id": "dd96a269",
   "metadata": {
    "execution": {
     "iopub.execute_input": "2023-11-05T12:26:12.454990Z",
     "iopub.status.busy": "2023-11-05T12:26:12.453866Z",
     "iopub.status.idle": "2023-11-05T12:26:12.695103Z",
     "shell.execute_reply": "2023-11-05T12:26:12.694066Z"
    },
    "id": "51cvg4XeQEVY",
    "outputId": "ab84a220-da12-4215-ade8-67275fd8040d",
    "papermill": {
     "duration": 0.27562,
     "end_time": "2023-11-05T12:26:12.697445",
     "exception": false,
     "start_time": "2023-11-05T12:26:12.421825",
     "status": "completed"
    },
    "tags": []
   },
   "outputs": [
    {
     "data": {
      "text/plain": [
       "<Axes: xlabel='Gender'>"
      ]
     },
     "execution_count": 45,
     "metadata": {},
     "output_type": "execute_result"
    },
    {
     "data": {
      "image/png": "[encoded data removed]",
      "text/plain": [
       "<Figure size 640x480 with 1 Axes>"
      ]
     },
     "metadata": {},
     "output_type": "display_data"
    }
   ],
   "source": [
    "crosstab_02 = pd.crosstab(data.Gender ,data.Exited )\n",
    "crosstab_02.plot(kind = \"bar\" , stacked = True)"
   ]
  },
  {
   "cell_type": "code",
   "execution_count": 46,
   "id": "e9abbd51",
   "metadata": {
    "execution": {
     "iopub.execute_input": "2023-11-05T12:26:12.762023Z",
     "iopub.status.busy": "2023-11-05T12:26:12.761628Z",
     "iopub.status.idle": "2023-11-05T12:26:13.658760Z",
     "shell.execute_reply": "2023-11-05T12:26:13.658009Z"
    },
    "id": "SszMPxzsQOy4",
    "outputId": "860f3f39-9e41-40ff-f133-c8b006198807",
    "papermill": {
     "duration": 0.931536,
     "end_time": "2023-11-05T12:26:13.660574",
     "exception": false,
     "start_time": "2023-11-05T12:26:12.729038",
     "status": "completed"
    },
    "tags": []
   },
   "outputs": [
    {
     "data": {
      "text/plain": [
       "<Figure size 2000x1500 with 0 Axes>"
      ]
     },
     "metadata": {},
     "output_type": "display_data"
    },
    {
     "data": {
      "image/png": "[encoded data removed]",
      "text/plain": [
       "<Figure size 640x480 with 1 Axes>"
      ]
     },
     "metadata": {},
     "output_type": "display_data"
    }
   ],
   "source": [
    "pyplot.figure(figsize=(20,15))\n",
    "crosstab_03 = pd.crosstab(data.Age ,data.Exited )\n",
    "crosstab_03.plot(kind = \"bar\" , stacked = True)\n",
    "pyplot.show()"
   ]
  },
  {
   "cell_type": "code",
   "execution_count": 47,
   "id": "3497c88c",
   "metadata": {
    "execution": {
     "iopub.execute_input": "2023-11-05T12:26:13.727108Z",
     "iopub.status.busy": "2023-11-05T12:26:13.726489Z",
     "iopub.status.idle": "2023-11-05T12:26:13.964875Z",
     "shell.execute_reply": "2023-11-05T12:26:13.963863Z"
    },
    "id": "w2h6qiV1QbQW",
    "outputId": "d61ac293-2548-4ad1-b1c9-58138fddef3d",
    "papermill": {
     "duration": 0.274169,
     "end_time": "2023-11-05T12:26:13.966875",
     "exception": false,
     "start_time": "2023-11-05T12:26:13.692706",
     "status": "completed"
    },
    "tags": []
   },
   "outputs": [
    {
     "data": {
      "text/plain": [
       "<Axes: xlabel='IsActiveMember'>"
      ]
     },
     "execution_count": 47,
     "metadata": {},
     "output_type": "execute_result"
    },
    {
     "data": {
      "image/png": "[encoded data removed]",
      "text/plain": [
       "<Figure size 640x480 with 1 Axes>"
      ]
     },
     "metadata": {},
     "output_type": "display_data"
    }
   ],
   "source": [
    "\n",
    "crosstab_04 = pd.crosstab(data.IsActiveMember ,data.Exited )\n",
    "crosstab_04.plot(kind = \"bar\" , stacked = True)"
   ]
  },
  {
   "cell_type": "markdown",
   "id": "95a5cd19",
   "metadata": {
    "id": "J4u24DyndvoY",
    "papermill": {
     "duration": 0.032392,
     "end_time": "2023-11-05T12:26:14.032374",
     "exception": false,
     "start_time": "2023-11-05T12:26:13.999982",
     "status": "completed"
    },
    "tags": []
   },
   "source": [
    "## Correlation"
   ]
  },
  {
   "cell_type": "code",
   "execution_count": 48,
   "id": "5025b7c7",
   "metadata": {
    "execution": {
     "iopub.execute_input": "2023-11-05T12:26:14.099049Z",
     "iopub.status.busy": "2023-11-05T12:26:14.098345Z",
     "iopub.status.idle": "2023-11-05T12:26:14.112053Z",
     "shell.execute_reply": "2023-11-05T12:26:14.110960Z"
    },
    "papermill": {
     "duration": 0.050011,
     "end_time": "2023-11-05T12:26:14.114577",
     "exception": false,
     "start_time": "2023-11-05T12:26:14.064566",
     "status": "completed"
    },
    "tags": []
   },
   "outputs": [],
   "source": [
    "data[\"Geography\"].replace({'France': 2, 'Spain': 3, 'Germany': 4}, inplace = True)\n",
    "data[\"Gender\"].replace({'Female': 2, 'Male': 3}, inplace = True)"
   ]
  },
  {
   "cell_type": "code",
   "execution_count": 49,
   "id": "fad4ed07",
   "metadata": {
    "execution": {
     "iopub.execute_input": "2023-11-05T12:26:14.180943Z",
     "iopub.status.busy": "2023-11-05T12:26:14.180562Z",
     "iopub.status.idle": "2023-11-05T12:26:14.849743Z",
     "shell.execute_reply": "2023-11-05T12:26:14.848615Z"
    },
    "id": "A8AU9eTPrFrn",
    "outputId": "4b6486db-123f-4b5f-dd6d-a010f0d2dfd8",
    "papermill": {
     "duration": 0.705054,
     "end_time": "2023-11-05T12:26:14.851997",
     "exception": false,
     "start_time": "2023-11-05T12:26:14.146943",
     "status": "completed"
    },
    "tags": []
   },
   "outputs": [
    {
     "data": {
      "text/plain": [
       "<Axes: >"
      ]
     },
     "execution_count": 49,
     "metadata": {},
     "output_type": "execute_result"
    },
    {
     "data": {
      "image/png": "[encoded data removed]",
      "text/plain": [
       "<Figure size 1000x600 with 2 Axes>"
      ]
     },
     "metadata": {},
     "output_type": "display_data"
    }
   ],
   "source": [
    "cols = data.corr().nlargest(10, 'Exited')['Exited'].index\n",
    "cm = data[cols].corr()\n",
    "plt.figure(figsize=(10,6))\n",
    "sns.heatmap(cm, annot=True, cmap=\"viridis\")"
   ]
  },
  {
   "cell_type": "markdown",
   "id": "838b20a2",
   "metadata": {
    "id": "EUUCSzFuQJ2f",
    "papermill": {
     "duration": 0.034221,
     "end_time": "2023-11-05T12:26:14.921021",
     "exception": false,
     "start_time": "2023-11-05T12:26:14.886800",
     "status": "completed"
    },
    "tags": []
   },
   "source": [
    "# Data Preprocessing"
   ]
  },
  {
   "cell_type": "code",
   "execution_count": 50,
   "id": "67c98365",
   "metadata": {
    "execution": {
     "iopub.execute_input": "2023-11-05T12:26:14.990946Z",
     "iopub.status.busy": "2023-11-05T12:26:14.990556Z",
     "iopub.status.idle": "2023-11-05T12:26:14.999740Z",
     "shell.execute_reply": "2023-11-05T12:26:14.998745Z"
    },
    "id": "4hmozXMarB32",
    "outputId": "73574b7d-74c4-4477-9898-70a37886306c",
    "papermill": {
     "duration": 0.046756,
     "end_time": "2023-11-05T12:26:15.001884",
     "exception": false,
     "start_time": "2023-11-05T12:26:14.955128",
     "status": "completed"
    },
    "tags": []
   },
   "outputs": [
    {
     "data": {
      "text/plain": [
       "CreditScore        0\n",
       "Geography          0\n",
       "Gender             0\n",
       "Age                0\n",
       "Tenure             0\n",
       "Balance            0\n",
       "NumOfProducts      0\n",
       "HasCrCard          0\n",
       "IsActiveMember     0\n",
       "EstimatedSalary    0\n",
       "Exited             0\n",
       "dtype: int64"
      ]
     },
     "execution_count": 50,
     "metadata": {},
     "output_type": "execute_result"
    }
   ],
   "source": [
    "# find missing data\n",
    "data.isna().sum()"
   ]
  },
  {
   "cell_type": "code",
   "execution_count": 51,
   "id": "a1a5bda1",
   "metadata": {
    "execution": {
     "iopub.execute_input": "2023-11-05T12:26:15.074141Z",
     "iopub.status.busy": "2023-11-05T12:26:15.073771Z",
     "iopub.status.idle": "2023-11-05T12:26:15.681498Z",
     "shell.execute_reply": "2023-11-05T12:26:15.680357Z"
    },
    "id": "8b269714",
    "outputId": "4356f9fd-e80c-48e7-8670-64c404d90ec5",
    "papermill": {
     "duration": 0.647368,
     "end_time": "2023-11-05T12:26:15.684092",
     "exception": false,
     "start_time": "2023-11-05T12:26:15.036724",
     "status": "completed"
    },
    "tags": []
   },
   "outputs": [
    {
     "data": {
      "image/png": "[encoded data removed]",
      "text/plain": [
       "<Figure size 1200x700 with 6 Axes>"
      ]
     },
     "metadata": {},
     "output_type": "display_data"
    }
   ],
   "source": [
    "col = ['CreditScore', 'Age', 'Tenure', 'Balance','NumOfProducts' ,'EstimatedSalary']\n",
    "i = 0\n",
    "while i < 6:\n",
    "    fig = plt.figure(figsize = [12,7])\n",
    "    plt.subplot(2,3,1)\n",
    "    sns.boxplot(x = col[i], data = data)\n",
    "    i += 1\n",
    "    plt.subplot(2,3,2)\n",
    "    sns.boxplot(x = col[i], data = data)\n",
    "    i += 1\n",
    "    plt.subplot(2,3,3)\n",
    "    sns.boxplot(x = col[i], data = data)\n",
    "    i += 1\n",
    "    plt.subplot(2,3,4)\n",
    "    sns.boxplot(x = col[i], data = data)\n",
    "    i += 1\n",
    "    plt.subplot(2,3,5)\n",
    "    sns.boxplot(x = col[i], data = data)\n",
    "    i += 1\n",
    "    plt.subplot(2,3,6)\n",
    "    sns.boxplot(x = col[i], data = data)\n",
    "    i += 1\n",
    "    plt.show()"
   ]
  },
  {
   "cell_type": "code",
   "execution_count": 52,
   "id": "79881bdf",
   "metadata": {
    "execution": {
     "iopub.execute_input": "2023-11-05T12:26:15.757242Z",
     "iopub.status.busy": "2023-11-05T12:26:15.756858Z",
     "iopub.status.idle": "2023-11-05T12:26:15.772531Z",
     "shell.execute_reply": "2023-11-05T12:26:15.771576Z"
    },
    "id": "3f23a3ff",
    "papermill": {
     "duration": 0.054945,
     "end_time": "2023-11-05T12:26:15.774809",
     "exception": false,
     "start_time": "2023-11-05T12:26:15.719864",
     "status": "completed"
    },
    "tags": []
   },
   "outputs": [],
   "source": [
    "data[\"CreditScore\"]=data[\"CreditScore\"].clip(lower=data[\"CreditScore\"].quantile(0.02),upper=data[\"CreditScore\"].quantile(0.98))\n",
    "data[\"Age\"]=data[\"Age\"].clip(lower=data[\"Age\"].quantile(0.05),upper=data[\"Age\"].quantile(0.95))\n",
    "data[\"NumOfProducts\"]=data[\"NumOfProducts\"].clip(lower=data[\"NumOfProducts\"].quantile(0.03),upper=data[\"NumOfProducts\"].quantile(0.97))"
   ]
  },
  {
   "cell_type": "code",
   "execution_count": 53,
   "id": "4941ecae",
   "metadata": {
    "execution": {
     "iopub.execute_input": "2023-11-05T12:26:15.847289Z",
     "iopub.status.busy": "2023-11-05T12:26:15.846918Z",
     "iopub.status.idle": "2023-11-05T12:26:16.474590Z",
     "shell.execute_reply": "2023-11-05T12:26:16.473494Z"
    },
    "id": "e226c5ae",
    "outputId": "15f084e0-e5fe-41b8-8039-25ab3d0180a5",
    "papermill": {
     "duration": 0.666244,
     "end_time": "2023-11-05T12:26:16.476736",
     "exception": false,
     "start_time": "2023-11-05T12:26:15.810492",
     "status": "completed"
    },
    "tags": []
   },
   "outputs": [
    {
     "data": {
      "image/png": "[encoded data removed]",
      "text/plain": [
       "<Figure size 1200x700 with 6 Axes>"
      ]
     },
     "metadata": {},
     "output_type": "display_data"
    }
   ],
   "source": [
    "col = ['CreditScore', 'Age', 'Tenure', 'Balance','NumOfProducts' ,'EstimatedSalary']\n",
    "i = 0\n",
    "while i < 6:\n",
    "    fig = plt.figure(figsize = [12,7])\n",
    "    plt.subplot(2,3,1)\n",
    "    sns.boxplot(x = col[i], data = data)\n",
    "    i += 1\n",
    "    plt.subplot(2,3,2)\n",
    "    sns.boxplot(x = col[i], data = data)\n",
    "    i += 1\n",
    "    plt.subplot(2,3,3)\n",
    "    sns.boxplot(x = col[i], data = data)\n",
    "    i += 1\n",
    "    plt.subplot(2,3,4)\n",
    "    sns.boxplot(x = col[i], data = data)\n",
    "    i += 1\n",
    "    plt.subplot(2,3,5)\n",
    "    sns.boxplot(x = col[i], data = data)\n",
    "    i += 1\n",
    "    plt.subplot(2,3,6)\n",
    "    sns.boxplot(x = col[i], data = data)\n",
    "    i += 1\n",
    "    plt.show()"
   ]
  },
  {
   "cell_type": "markdown",
   "id": "ed098b33",
   "metadata": {
    "id": "39e8ff4a",
    "papermill": {
     "duration": 0.034513,
     "end_time": "2023-11-05T12:26:16.546225",
     "exception": false,
     "start_time": "2023-11-05T12:26:16.511712",
     "status": "completed"
    },
    "tags": []
   },
   "source": [
    "# Modeling"
   ]
  },
  {
   "cell_type": "code",
   "execution_count": 54,
   "id": "c8114e10",
   "metadata": {
    "execution": {
     "iopub.execute_input": "2023-11-05T12:26:16.617518Z",
     "iopub.status.busy": "2023-11-05T12:26:16.616878Z",
     "iopub.status.idle": "2023-11-05T12:26:16.626240Z",
     "shell.execute_reply": "2023-11-05T12:26:16.625448Z"
    },
    "id": "ddf567f1",
    "papermill": {
     "duration": 0.047481,
     "end_time": "2023-11-05T12:26:16.628238",
     "exception": false,
     "start_time": "2023-11-05T12:26:16.580757",
     "status": "completed"
    },
    "tags": []
   },
   "outputs": [],
   "source": [
    "x = data.drop(\"Exited\",axis=1)\n",
    "y = data[\"Exited\"]\n",
    "x_train, x_test, y_train, y_test = train_test_split(x, y, test_size=0.20, random_state=0)"
   ]
  },
  {
   "cell_type": "markdown",
   "id": "624ca217",
   "metadata": {
    "id": "40ec7f84",
    "papermill": {
     "duration": 0.034995,
     "end_time": "2023-11-05T12:26:16.698029",
     "exception": false,
     "start_time": "2023-11-05T12:26:16.663034",
     "status": "completed"
    },
    "tags": []
   },
   "source": [
    "## LogisticRegression"
   ]
  },
  {
   "cell_type": "code",
   "execution_count": 55,
   "id": "e00a3a60",
   "metadata": {
    "execution": {
     "iopub.execute_input": "2023-11-05T12:26:16.769295Z",
     "iopub.status.busy": "2023-11-05T12:26:16.768893Z",
     "iopub.status.idle": "2023-11-05T12:26:17.704556Z",
     "shell.execute_reply": "2023-11-05T12:26:17.703453Z"
    },
    "id": "9137dad1",
    "outputId": "d2e4982b-6d91-4958-ceec-83ea05aea71f",
    "papermill": {
     "duration": 0.974595,
     "end_time": "2023-11-05T12:26:17.707350",
     "exception": false,
     "start_time": "2023-11-05T12:26:16.732755",
     "status": "completed"
    },
    "tags": []
   },
   "outputs": [
    {
     "data": {
      "text/plain": [
       "array([0.789, 0.788, 0.785, 0.786, 0.797, 0.798, 0.805, 0.798, 0.788,\n",
       "       0.811])"
      ]
     },
     "execution_count": 55,
     "metadata": {},
     "output_type": "execute_result"
    }
   ],
   "source": [
    "model=LogisticRegression(solver='liblinear',C=10.0, random_state=0)\n",
    "KFold=KFold(10)\n",
    "results=cross_val_score(model,x,y.ravel(),cv=KFold)\n",
    "results"
   ]
  },
  {
   "cell_type": "code",
   "execution_count": 56,
   "id": "c24ab885",
   "metadata": {
    "execution": {
     "iopub.execute_input": "2023-11-05T12:26:17.825528Z",
     "iopub.status.busy": "2023-11-05T12:26:17.825126Z",
     "iopub.status.idle": "2023-11-05T12:26:17.893974Z",
     "shell.execute_reply": "2023-11-05T12:26:17.893209Z"
    },
    "id": "b51ecd57",
    "outputId": "ad99e216-70cd-4a2c-df62-d2ef6ba6ed86",
    "papermill": {
     "duration": 0.128148,
     "end_time": "2023-11-05T12:26:17.895909",
     "exception": false,
     "start_time": "2023-11-05T12:26:17.767761",
     "status": "completed"
    },
    "tags": []
   },
   "outputs": [
    {
     "data": {
      "text/html": [
       "<style>#sk-container-id-1 {color: black;background-color: white;}#sk-container-id-1 pre{padding: 0;}#sk-container-id-1 div.sk-toggleable {background-color: white;}#sk-container-id-1 label.sk-toggleable__label {cursor: pointer;display: block;width: 100%;margin-bottom: 0;padding: 0.3em;box-sizing: border-box;text-align: center;}#sk-container-id-1 label.sk-toggleable__label-arrow:before {content: \"▸\";float: left;margin-right: 0.25em;color: #696969;}#sk-container-id-1 label.sk-toggleable__label-arrow:hover:before {color: black;}#sk-container-id-1 div.sk-estimator:hover label.sk-toggleable__label-arrow:before {color: black;}#sk-container-id-1 div.sk-toggleable__content {max-height: 0;max-width: 0;overflow: hidden;text-align: left;background-color: #f0f8ff;}#sk-container-id-1 div.sk-toggleable__content pre {margin: 0.2em;color: black;border-radius: 0.25em;background-color: #f0f8ff;}#sk-container-id-1 input.sk-toggleable__control:checked~div.sk-toggleable__content {max-height: 200px;max-width: 100%;overflow: auto;}#sk-container-id-1 input.sk-toggleable__control:checked~label.sk-toggleable__label-arrow:before {content: \"▾\";}#sk-container-id-1 div.sk-estimator input.sk-toggleable__control:checked~label.sk-toggleable__label {background-color: #d4ebff;}#sk-container-id-1 div.sk-label input.sk-toggleable__control:checked~label.sk-toggleable__label {background-color: #d4ebff;}#sk-container-id-1 input.sk-hidden--visually {border: 0;clip: rect(1px 1px 1px 1px);clip: rect(1px, 1px, 1px, 1px);height: 1px;margin: -1px;overflow: hidden;padding: 0;position: absolute;width: 1px;}#sk-container-id-1 div.sk-estimator {font-family: monospace;background-color: #f0f8ff;border: 1px dotted black;border-radius: 0.25em;box-sizing: border-box;margin-bottom: 0.5em;}#sk-container-id-1 div.sk-estimator:hover {background-color: #d4ebff;}#sk-container-id-1 div.sk-parallel-item::after {content: \"\";width: 100%;border-bottom: 1px solid gray;flex-grow: 1;}#sk-container-id-1 div.sk-label:hover label.sk-toggleable__label {background-color: #d4ebff;}#sk-container-id-1 div.sk-serial::before {content: \"\";position: absolute;border-left: 1px solid gray;box-sizing: border-box;top: 0;bottom: 0;left: 50%;z-index: 0;}#sk-container-id-1 div.sk-serial {display: flex;flex-direction: column;align-items: center;background-color: white;padding-right: 0.2em;padding-left: 0.2em;position: relative;}#sk-container-id-1 div.sk-item {position: relative;z-index: 1;}#sk-container-id-1 div.sk-parallel {display: flex;align-items: stretch;justify-content: center;background-color: white;position: relative;}#sk-container-id-1 div.sk-item::before, #sk-container-id-1 div.sk-parallel-item::before {content: \"\";position: absolute;border-left: 1px solid gray;box-sizing: border-box;top: 0;bottom: 0;left: 50%;z-index: -1;}#sk-container-id-1 div.sk-parallel-item {display: flex;flex-direction: column;z-index: 1;position: relative;background-color: white;}#sk-container-id-1 div.sk-parallel-item:first-child::after {align-self: flex-end;width: 50%;}#sk-container-id-1 div.sk-parallel-item:last-child::after {align-self: flex-start;width: 50%;}#sk-container-id-1 div.sk-parallel-item:only-child::after {width: 0;}#sk-container-id-1 div.sk-dashed-wrapped {border: 1px dashed gray;margin: 0 0.4em 0.5em 0.4em;box-sizing: border-box;padding-bottom: 0.4em;background-color: white;}#sk-container-id-1 div.sk-label label {font-family: monospace;font-weight: bold;display: inline-block;line-height: 1.2em;}#sk-container-id-1 div.sk-label-container {text-align: center;}#sk-container-id-1 div.sk-container {/* jupyter's `normalize.less` sets `[hidden] { display: none; }` but bootstrap.min.css set `[hidden] { display: none !important; }` so we also need the `!important` here to be able to override the default hidden behavior on the sphinx rendered scikit-learn.org. See: https://github.com/scikit-learn/scikit-learn/issues/21755 */display: inline-block !important;position: relative;}#sk-container-id-1 div.sk-text-repr-fallback {display: none;}</style><div id=\"sk-container-id-1\" class=\"sk-top-container\"><div class=\"sk-text-repr-fallback\"><pre>LogisticRegression(C=10.0, random_state=0, solver=&#x27;liblinear&#x27;)</pre><b>In a Jupyter environment, please rerun this cell to show the HTML representation or trust the notebook. <br />On GitHub, the HTML representation is unable to render, please try loading this page with nbviewer.org.</b></div><div class=\"sk-container\" hidden><div class=\"sk-item\"><div class=\"sk-estimator sk-toggleable\"><input class=\"sk-toggleable__control sk-hidden--visually\" id=\"sk-estimator-id-1\" type=\"checkbox\" checked><label for=\"sk-estimator-id-1\" class=\"sk-toggleable__label sk-toggleable__label-arrow\">LogisticRegression</label><div class=\"sk-toggleable__content\"><pre>LogisticRegression(C=10.0, random_state=0, solver=&#x27;liblinear&#x27;)</pre></div></div></div></div></div>"
      ],
      "text/plain": [
       "LogisticRegression(C=10.0, random_state=0, solver='liblinear')"
      ]
     },
     "execution_count": 56,
     "metadata": {},
     "output_type": "execute_result"
    }
   ],
   "source": [
    "model.fit(x_train,y_train.ravel())"
   ]
  },
  {
   "cell_type": "code",
   "execution_count": 57,
   "id": "ba7e81f4",
   "metadata": {
    "execution": {
     "iopub.execute_input": "2023-11-05T12:26:17.970124Z",
     "iopub.status.busy": "2023-11-05T12:26:17.969469Z",
     "iopub.status.idle": "2023-11-05T12:26:17.976081Z",
     "shell.execute_reply": "2023-11-05T12:26:17.974941Z"
    },
    "id": "20b5c20d",
    "papermill": {
     "duration": 0.046849,
     "end_time": "2023-11-05T12:26:17.979322",
     "exception": false,
     "start_time": "2023-11-05T12:26:17.932473",
     "status": "completed"
    },
    "tags": []
   },
   "outputs": [],
   "source": [
    "y_pred = model.predict(x_test)"
   ]
  },
  {
   "cell_type": "code",
   "execution_count": 58,
   "id": "7a1ad97d",
   "metadata": {
    "execution": {
     "iopub.execute_input": "2023-11-05T12:26:18.101184Z",
     "iopub.status.busy": "2023-11-05T12:26:18.100828Z",
     "iopub.status.idle": "2023-11-05T12:26:18.107438Z",
     "shell.execute_reply": "2023-11-05T12:26:18.106292Z"
    },
    "id": "38e31d12",
    "outputId": "207d70e4-7b0b-4157-a71b-ba9c00df6407",
    "papermill": {
     "duration": 0.068651,
     "end_time": "2023-11-05T12:26:18.109611",
     "exception": false,
     "start_time": "2023-11-05T12:26:18.040960",
     "status": "completed"
    },
    "tags": []
   },
   "outputs": [
    {
     "name": "stdout",
     "output_type": "stream",
     "text": [
      "Accuracy: 0.7955\n"
     ]
    }
   ],
   "source": [
    "print(\"Accuracy:\",metrics.accuracy_score(y_test, y_pred))"
   ]
  },
  {
   "cell_type": "code",
   "execution_count": 59,
   "id": "54c89b6b",
   "metadata": {
    "execution": {
     "iopub.execute_input": "2023-11-05T12:26:18.184086Z",
     "iopub.status.busy": "2023-11-05T12:26:18.183715Z",
     "iopub.status.idle": "2023-11-05T12:26:18.416159Z",
     "shell.execute_reply": "2023-11-05T12:26:18.415100Z"
    },
    "id": "929ee8f5",
    "outputId": "038b455e-0b8d-445b-b30d-eca445e2dbde",
    "papermill": {
     "duration": 0.273251,
     "end_time": "2023-11-05T12:26:18.418550",
     "exception": false,
     "start_time": "2023-11-05T12:26:18.145299",
     "status": "completed"
    },
    "tags": []
   },
   "outputs": [
    {
     "data": {
      "image/png": "[encoded data removed]",
      "text/plain": [
       "<Figure size 640x480 with 1 Axes>"
      ]
     },
     "metadata": {},
     "output_type": "display_data"
    }
   ],
   "source": [
    "y_pred_proba = model.predict_proba(x_test)[::,1]\n",
    "fpr, tpr, _ = metrics.roc_curve(y_test,  y_pred_proba)\n",
    "plt.plot(fpr,tpr,label=\"data 1\")\n",
    "plt.legend(loc=4)\n",
    "plt.show()"
   ]
  },
  {
   "cell_type": "code",
   "execution_count": 60,
   "id": "0447b2e7",
   "metadata": {
    "execution": {
     "iopub.execute_input": "2023-11-05T12:26:18.492993Z",
     "iopub.status.busy": "2023-11-05T12:26:18.492586Z",
     "iopub.status.idle": "2023-11-05T12:26:18.507900Z",
     "shell.execute_reply": "2023-11-05T12:26:18.506505Z"
    },
    "id": "a78b33fc",
    "outputId": "2b031a12-dd82-404b-e430-1150c7db6c5d",
    "papermill": {
     "duration": 0.055865,
     "end_time": "2023-11-05T12:26:18.510991",
     "exception": false,
     "start_time": "2023-11-05T12:26:18.455126",
     "status": "completed"
    },
    "tags": []
   },
   "outputs": [
    {
     "data": {
      "text/plain": [
       "array([[0.79024785, 0.20975215],\n",
       "       [0.7408855 , 0.2591145 ],\n",
       "       [0.55113557, 0.44886443],\n",
       "       ...,\n",
       "       [0.89055   , 0.10945   ],\n",
       "       [0.87245981, 0.12754019],\n",
       "       [0.9269603 , 0.0730397 ]])"
      ]
     },
     "execution_count": 60,
     "metadata": {},
     "output_type": "execute_result"
    }
   ],
   "source": [
    "model.predict_proba(x)"
   ]
  },
  {
   "cell_type": "code",
   "execution_count": 61,
   "id": "d4255261",
   "metadata": {
    "execution": {
     "iopub.execute_input": "2023-11-05T12:26:18.631093Z",
     "iopub.status.busy": "2023-11-05T12:26:18.629967Z",
     "iopub.status.idle": "2023-11-05T12:26:18.643268Z",
     "shell.execute_reply": "2023-11-05T12:26:18.642144Z"
    },
    "id": "8448c537",
    "outputId": "85716e9c-8148-4d93-89e2-d869fe14eb5c",
    "papermill": {
     "duration": 0.072881,
     "end_time": "2023-11-05T12:26:18.646144",
     "exception": false,
     "start_time": "2023-11-05T12:26:18.573263",
     "status": "completed"
    },
    "tags": []
   },
   "outputs": [
    {
     "data": {
      "text/plain": [
       "0.7952"
      ]
     },
     "execution_count": 61,
     "metadata": {},
     "output_type": "execute_result"
    }
   ],
   "source": [
    "model.score(x, y)"
   ]
  },
  {
   "cell_type": "code",
   "execution_count": 62,
   "id": "7271a3d2",
   "metadata": {
    "execution": {
     "iopub.execute_input": "2023-11-05T12:26:18.767892Z",
     "iopub.status.busy": "2023-11-05T12:26:18.767515Z",
     "iopub.status.idle": "2023-11-05T12:26:18.782876Z",
     "shell.execute_reply": "2023-11-05T12:26:18.781756Z"
    },
    "id": "e39ee3a8",
    "outputId": "1ba31c0c-7bde-4052-86a5-e2bac97581f5",
    "papermill": {
     "duration": 0.075368,
     "end_time": "2023-11-05T12:26:18.785664",
     "exception": false,
     "start_time": "2023-11-05T12:26:18.710296",
     "status": "completed"
    },
    "tags": []
   },
   "outputs": [
    {
     "data": {
      "text/plain": [
       "array([[7769,  194],\n",
       "       [1854,  183]])"
      ]
     },
     "execution_count": 62,
     "metadata": {},
     "output_type": "execute_result"
    }
   ],
   "source": [
    "confusion_matrix(y, model.predict(x))"
   ]
  },
  {
   "cell_type": "code",
   "execution_count": 63,
   "id": "7a6cba23",
   "metadata": {
    "execution": {
     "iopub.execute_input": "2023-11-05T12:26:18.905538Z",
     "iopub.status.busy": "2023-11-05T12:26:18.904843Z",
     "iopub.status.idle": "2023-11-05T12:26:19.105801Z",
     "shell.execute_reply": "2023-11-05T12:26:19.104753Z"
    },
    "id": "9dfb3b2b",
    "outputId": "f77716af-c1a3-4935-f548-6963f9b6bee0",
    "papermill": {
     "duration": 0.260731,
     "end_time": "2023-11-05T12:26:19.108932",
     "exception": false,
     "start_time": "2023-11-05T12:26:18.848201",
     "status": "completed"
    },
    "tags": []
   },
   "outputs": [
    {
     "data": {
      "image/png": "[encoded data removed]",
      "text/plain": [
       "<Figure size 800x800 with 1 Axes>"
      ]
     },
     "metadata": {},
     "output_type": "display_data"
    }
   ],
   "source": [
    "cm = confusion_matrix(y, model.predict(x))\n",
    "\n",
    "fig, ax = plt.subplots(figsize=(8, 8))\n",
    "ax.imshow(cm)\n",
    "ax.grid(False)\n",
    "ax.xaxis.set(ticks=(0, 1), ticklabels=('Predicted 0s', 'Predicted 1s'))\n",
    "ax.yaxis.set(ticks=(0, 1), ticklabels=('Actual 0s', 'Actual 1s'))\n",
    "ax.set_ylim(1.5, -0.5)\n",
    "for i in range(2):\n",
    "    for j in range(2):\n",
    "        ax.text(j, i, cm[i, j], ha='center', va='center', color='white')\n",
    "plt.show()"
   ]
  },
  {
   "cell_type": "code",
   "execution_count": 64,
   "id": "2128e8e0",
   "metadata": {
    "execution": {
     "iopub.execute_input": "2023-11-05T12:26:19.207257Z",
     "iopub.status.busy": "2023-11-05T12:26:19.206182Z",
     "iopub.status.idle": "2023-11-05T12:26:19.248667Z",
     "shell.execute_reply": "2023-11-05T12:26:19.247324Z"
    },
    "id": "e0bb4c11",
    "outputId": "56e53291-10a6-418b-ca1a-7ade71e4e388",
    "papermill": {
     "duration": 0.083751,
     "end_time": "2023-11-05T12:26:19.251670",
     "exception": false,
     "start_time": "2023-11-05T12:26:19.167919",
     "status": "completed"
    },
    "tags": []
   },
   "outputs": [
    {
     "name": "stdout",
     "output_type": "stream",
     "text": [
      "              precision    recall  f1-score   support\n",
      "\n",
      "           0       0.81      0.98      0.88      7963\n",
      "           1       0.49      0.09      0.15      2037\n",
      "\n",
      "    accuracy                           0.80     10000\n",
      "   macro avg       0.65      0.53      0.52     10000\n",
      "weighted avg       0.74      0.80      0.73     10000\n"
     ]
    }
   ],
   "source": [
    "print(classification_report(y, model.predict(x)))"
   ]
  },
  {
   "cell_type": "markdown",
   "id": "250bb6ab",
   "metadata": {
    "id": "0fd50686",
    "papermill": {
     "duration": 0.045852,
     "end_time": "2023-11-05T12:26:19.361449",
     "exception": false,
     "start_time": "2023-11-05T12:26:19.315597",
     "status": "completed"
    },
    "tags": []
   },
   "source": [
    "## KNN"
   ]
  },
  {
   "cell_type": "code",
   "execution_count": 65,
   "id": "c4c05f4e",
   "metadata": {
    "execution": {
     "iopub.execute_input": "2023-11-05T12:26:19.437561Z",
     "iopub.status.busy": "2023-11-05T12:26:19.437176Z",
     "iopub.status.idle": "2023-11-05T12:26:22.035431Z",
     "shell.execute_reply": "2023-11-05T12:26:22.034685Z"
    },
    "id": "519597aa",
    "outputId": "f79e482f-eb16-4a86-dcb3-7adc9b177c88",
    "papermill": {
     "duration": 2.638546,
     "end_time": "2023-11-05T12:26:22.037559",
     "exception": false,
     "start_time": "2023-11-05T12:26:19.399013",
     "status": "completed"
    },
    "tags": []
   },
   "outputs": [
    {
     "data": {
      "text/plain": [
       "array([0.683 , 0.7735, 0.731 , 0.7855, 0.7635, 0.7925, 0.779 , 0.794 ,\n",
       "       0.7835, 0.7935, 0.79  , 0.794 , 0.7885, 0.794 , 0.7925, 0.797 ,\n",
       "       0.7945, 0.7955, 0.794 , 0.7955])"
      ]
     },
     "execution_count": 65,
     "metadata": {},
     "output_type": "execute_result"
    }
   ],
   "source": [
    "k=20\n",
    "\n",
    "acc=np.zeros((k))\n",
    "\n",
    "for i in range(1, k+1):\n",
    "    clf=KNeighborsClassifier(n_neighbors=i)\n",
    "    clf.fit(x_train,y_train.ravel())\n",
    "    y_pred=clf.predict(x_test)\n",
    "    acc[i-1]=metrics.accuracy_score(y_test,y_pred)\n",
    "acc"
   ]
  },
  {
   "cell_type": "code",
   "execution_count": 66,
   "id": "0fdc7998",
   "metadata": {
    "execution": {
     "iopub.execute_input": "2023-11-05T12:26:22.112951Z",
     "iopub.status.busy": "2023-11-05T12:26:22.112350Z",
     "iopub.status.idle": "2023-11-05T12:26:22.116790Z",
     "shell.execute_reply": "2023-11-05T12:26:22.116125Z"
    },
    "id": "a57c66d8",
    "outputId": "9fc9e000-8f1d-4669-bbc8-9d9b578294dc",
    "papermill": {
     "duration": 0.044276,
     "end_time": "2023-11-05T12:26:22.118637",
     "exception": false,
     "start_time": "2023-11-05T12:26:22.074361",
     "status": "completed"
    },
    "tags": []
   },
   "outputs": [
    {
     "name": "stdout",
     "output_type": "stream",
     "text": [
      "0.797\n",
      "0.683\n"
     ]
    }
   ],
   "source": [
    "print(np.max(acc))\n",
    "print(np.min(acc))"
   ]
  },
  {
   "cell_type": "code",
   "execution_count": 67,
   "id": "dbcccc55",
   "metadata": {
    "execution": {
     "iopub.execute_input": "2023-11-05T12:26:22.194304Z",
     "iopub.status.busy": "2023-11-05T12:26:22.193724Z",
     "iopub.status.idle": "2023-11-05T12:26:22.330850Z",
     "shell.execute_reply": "2023-11-05T12:26:22.329876Z"
    },
    "id": "6ed3cbfc",
    "papermill": {
     "duration": 0.177655,
     "end_time": "2023-11-05T12:26:22.333126",
     "exception": false,
     "start_time": "2023-11-05T12:26:22.155471",
     "status": "completed"
    },
    "tags": []
   },
   "outputs": [],
   "source": [
    "k=17\n",
    "\n",
    "clf=KNeighborsClassifier(k)\n",
    "\n",
    "clf.fit(x_train,y_train)\n",
    "\n",
    "y_pred=clf.predict(x_test)"
   ]
  },
  {
   "cell_type": "code",
   "execution_count": 68,
   "id": "f80c713c",
   "metadata": {
    "execution": {
     "iopub.execute_input": "2023-11-05T12:26:22.410960Z",
     "iopub.status.busy": "2023-11-05T12:26:22.410245Z",
     "iopub.status.idle": "2023-11-05T12:26:22.416538Z",
     "shell.execute_reply": "2023-11-05T12:26:22.415377Z"
    },
    "id": "a2a18288",
    "outputId": "f7037cbc-aad5-47d2-8f7d-26745950754f",
    "papermill": {
     "duration": 0.046727,
     "end_time": "2023-11-05T12:26:22.418601",
     "exception": false,
     "start_time": "2023-11-05T12:26:22.371874",
     "status": "completed"
    },
    "tags": []
   },
   "outputs": [
    {
     "name": "stdout",
     "output_type": "stream",
     "text": [
      "Accuracy is : 0.7945\n"
     ]
    }
   ],
   "source": [
    "print(\"Accuracy is :\",metrics.accuracy_score(y_test,y_pred))"
   ]
  },
  {
   "cell_type": "code",
   "execution_count": 69,
   "id": "40b8dd1e",
   "metadata": {
    "execution": {
     "iopub.execute_input": "2023-11-05T12:26:22.494668Z",
     "iopub.status.busy": "2023-11-05T12:26:22.494299Z",
     "iopub.status.idle": "2023-11-05T12:26:33.958730Z",
     "shell.execute_reply": "2023-11-05T12:26:33.957680Z"
    },
    "id": "507ff10c",
    "outputId": "7dbd9dd1-01e1-4d95-fcc4-904e7a33b1de",
    "papermill": {
     "duration": 11.505343,
     "end_time": "2023-11-05T12:26:33.960920",
     "exception": false,
     "start_time": "2023-11-05T12:26:22.455577",
     "status": "completed"
    },
    "tags": []
   },
   "outputs": [
    {
     "data": {
      "image/png": "[encoded data removed]",
      "text/plain": [
       "<Figure size 700x400 with 1 Axes>"
      ]
     },
     "metadata": {},
     "output_type": "display_data"
    }
   ],
   "source": [
    "training_acc=[]\n",
    "test_acc=[]\n",
    "\n",
    "neighbors_setting=range(1,20)\n",
    "\n",
    "for n_neighbors in neighbors_setting:\n",
    "    knn=KNeighborsClassifier(n_neighbors=n_neighbors)\n",
    "    knn.fit(x_train,y_train.ravel())\n",
    "    training_acc.append(knn.score(x_train,y_train))\n",
    "    test_acc.append(knn.score(x_test,y_test))\n",
    "\n",
    "plt.figure(figsize=(7,4),dpi=100)\n",
    "\n",
    "plt.plot(neighbors_setting,training_acc,label=\"accuracy of the training set\")\n",
    "\n",
    "plt.plot(neighbors_setting,test_acc,label=\"accuracy of the test set\")\n",
    "\n",
    "plt.xlabel(\"Number of neighbors\")\n",
    "\n",
    "plt.ylabel(\"Accuracy\")\n",
    "\n",
    "plt.grid()\n",
    "\n",
    "plt.legend()\n",
    "\n",
    "plt.show()"
   ]
  },
  {
   "cell_type": "code",
   "execution_count": 70,
   "id": "a0b01246",
   "metadata": {
    "execution": {
     "iopub.execute_input": "2023-11-05T12:26:34.041063Z",
     "iopub.status.busy": "2023-11-05T12:26:34.040487Z",
     "iopub.status.idle": "2023-11-05T12:26:48.000939Z",
     "shell.execute_reply": "2023-11-05T12:26:47.999733Z"
    },
    "id": "661e1910",
    "outputId": "fa900fe4-88a1-4e6a-bb66-6d1116b2cbc5",
    "papermill": {
     "duration": 14.003518,
     "end_time": "2023-11-05T12:26:48.003398",
     "exception": false,
     "start_time": "2023-11-05T12:26:33.999880",
     "status": "completed"
    },
    "tags": []
   },
   "outputs": [
    {
     "name": "stdout",
     "output_type": "stream",
     "text": [
      "Fitting 5 folds for each of 49 candidates, totalling 245 fits\n"
     ]
    },
    {
     "data": {
      "text/html": [
       "<style>#sk-container-id-2 {color: black;background-color: white;}#sk-container-id-2 pre{padding: 0;}#sk-container-id-2 div.sk-toggleable {background-color: white;}#sk-container-id-2 label.sk-toggleable__label {cursor: pointer;display: block;width: 100%;margin-bottom: 0;padding: 0.3em;box-sizing: border-box;text-align: center;}#sk-container-id-2 label.sk-toggleable__label-arrow:before {content: \"▸\";float: left;margin-right: 0.25em;color: #696969;}#sk-container-id-2 label.sk-toggleable__label-arrow:hover:before {color: black;}#sk-container-id-2 div.sk-estimator:hover label.sk-toggleable__label-arrow:before {color: black;}#sk-container-id-2 div.sk-toggleable__content {max-height: 0;max-width: 0;overflow: hidden;text-align: left;background-color: #f0f8ff;}#sk-container-id-2 div.sk-toggleable__content pre {margin: 0.2em;color: black;border-radius: 0.25em;background-color: #f0f8ff;}#sk-container-id-2 input.sk-toggleable__control:checked~div.sk-toggleable__content {max-height: 200px;max-width: 100%;overflow: auto;}#sk-container-id-2 input.sk-toggleable__control:checked~label.sk-toggleable__label-arrow:before {content: \"▾\";}#sk-container-id-2 div.sk-estimator input.sk-toggleable__control:checked~label.sk-toggleable__label {background-color: #d4ebff;}#sk-container-id-2 div.sk-label input.sk-toggleable__control:checked~label.sk-toggleable__label {background-color: #d4ebff;}#sk-container-id-2 input.sk-hidden--visually {border: 0;clip: rect(1px 1px 1px 1px);clip: rect(1px, 1px, 1px, 1px);height: 1px;margin: -1px;overflow: hidden;padding: 0;position: absolute;width: 1px;}#sk-container-id-2 div.sk-estimator {font-family: monospace;background-color: #f0f8ff;border: 1px dotted black;border-radius: 0.25em;box-sizing: border-box;margin-bottom: 0.5em;}#sk-container-id-2 div.sk-estimator:hover {background-color: #d4ebff;}#sk-container-id-2 div.sk-parallel-item::after {content: \"\";width: 100%;border-bottom: 1px solid gray;flex-grow: 1;}#sk-container-id-2 div.sk-label:hover label.sk-toggleable__label {background-color: #d4ebff;}#sk-container-id-2 div.sk-serial::before {content: \"\";position: absolute;border-left: 1px solid gray;box-sizing: border-box;top: 0;bottom: 0;left: 50%;z-index: 0;}#sk-container-id-2 div.sk-serial {display: flex;flex-direction: column;align-items: center;background-color: white;padding-right: 0.2em;padding-left: 0.2em;position: relative;}#sk-container-id-2 div.sk-item {position: relative;z-index: 1;}#sk-container-id-2 div.sk-parallel {display: flex;align-items: stretch;justify-content: center;background-color: white;position: relative;}#sk-container-id-2 div.sk-item::before, #sk-container-id-2 div.sk-parallel-item::before {content: \"\";position: absolute;border-left: 1px solid gray;box-sizing: border-box;top: 0;bottom: 0;left: 50%;z-index: -1;}#sk-container-id-2 div.sk-parallel-item {display: flex;flex-direction: column;z-index: 1;position: relative;background-color: white;}#sk-container-id-2 div.sk-parallel-item:first-child::after {align-self: flex-end;width: 50%;}#sk-container-id-2 div.sk-parallel-item:last-child::after {align-self: flex-start;width: 50%;}#sk-container-id-2 div.sk-parallel-item:only-child::after {width: 0;}#sk-container-id-2 div.sk-dashed-wrapped {border: 1px dashed gray;margin: 0 0.4em 0.5em 0.4em;box-sizing: border-box;padding-bottom: 0.4em;background-color: white;}#sk-container-id-2 div.sk-label label {font-family: monospace;font-weight: bold;display: inline-block;line-height: 1.2em;}#sk-container-id-2 div.sk-label-container {text-align: center;}#sk-container-id-2 div.sk-container {/* jupyter's `normalize.less` sets `[hidden] { display: none; }` but bootstrap.min.css set `[hidden] { display: none !important; }` so we also need the `!important` here to be able to override the default hidden behavior on the sphinx rendered scikit-learn.org. See: https://github.com/scikit-learn/scikit-learn/issues/21755 */display: inline-block !important;position: relative;}#sk-container-id-2 div.sk-text-repr-fallback {display: none;}</style><div id=\"sk-container-id-2\" class=\"sk-top-container\"><div class=\"sk-text-repr-fallback\"><pre>GridSearchCV(cv=5, estimator=KNeighborsClassifier(n_neighbors=19), n_jobs=-1,\n",
       "             param_grid={&#x27;n_neighbors&#x27;: range(1, 50)}, scoring=&#x27;accuracy&#x27;,\n",
       "             verbose=1)</pre><b>In a Jupyter environment, please rerun this cell to show the HTML representation or trust the notebook. <br />On GitHub, the HTML representation is unable to render, please try loading this page with nbviewer.org.</b></div><div class=\"sk-container\" hidden><div class=\"sk-item sk-dashed-wrapped\"><div class=\"sk-label-container\"><div class=\"sk-label sk-toggleable\"><input class=\"sk-toggleable__control sk-hidden--visually\" id=\"sk-estimator-id-2\" type=\"checkbox\" ><label for=\"sk-estimator-id-2\" class=\"sk-toggleable__label sk-toggleable__label-arrow\">GridSearchCV</label><div class=\"sk-toggleable__content\"><pre>GridSearchCV(cv=5, estimator=KNeighborsClassifier(n_neighbors=19), n_jobs=-1,\n",
       "             param_grid={&#x27;n_neighbors&#x27;: range(1, 50)}, scoring=&#x27;accuracy&#x27;,\n",
       "             verbose=1)</pre></div></div></div><div class=\"sk-parallel\"><div class=\"sk-parallel-item\"><div class=\"sk-item\"><div class=\"sk-label-container\"><div class=\"sk-label sk-toggleable\"><input class=\"sk-toggleable__control sk-hidden--visually\" id=\"sk-estimator-id-3\" type=\"checkbox\" ><label for=\"sk-estimator-id-3\" class=\"sk-toggleable__label sk-toggleable__label-arrow\">estimator: KNeighborsClassifier</label><div class=\"sk-toggleable__content\"><pre>KNeighborsClassifier(n_neighbors=19)</pre></div></div></div><div class=\"sk-serial\"><div class=\"sk-item\"><div class=\"sk-estimator sk-toggleable\"><input class=\"sk-toggleable__control sk-hidden--visually\" id=\"sk-estimator-id-4\" type=\"checkbox\" ><label for=\"sk-estimator-id-4\" class=\"sk-toggleable__label sk-toggleable__label-arrow\">KNeighborsClassifier</label><div class=\"sk-toggleable__content\"><pre>KNeighborsClassifier(n_neighbors=19)</pre></div></div></div></div></div></div></div></div></div></div>"
      ],
      "text/plain": [
       "GridSearchCV(cv=5, estimator=KNeighborsClassifier(n_neighbors=19), n_jobs=-1,\n",
       "             param_grid={'n_neighbors': range(1, 50)}, scoring='accuracy',\n",
       "             verbose=1)"
      ]
     },
     "execution_count": 70,
     "metadata": {},
     "output_type": "execute_result"
    }
   ],
   "source": [
    "# Grid search\n",
    "parameters={\"n_neighbors\":range(1,50)}\n",
    "\n",
    "grid_knn=GridSearchCV(estimator=knn,param_grid=parameters,scoring=\"accuracy\",cv=5,verbose=1,n_jobs=-1)\n",
    "\n",
    "grid_knn.fit(x_train,y_train.ravel())"
   ]
  },
  {
   "cell_type": "code",
   "execution_count": 71,
   "id": "c5cea924",
   "metadata": {
    "execution": {
     "iopub.execute_input": "2023-11-05T12:26:48.082104Z",
     "iopub.status.busy": "2023-11-05T12:26:48.081737Z",
     "iopub.status.idle": "2023-11-05T12:26:48.088227Z",
     "shell.execute_reply": "2023-11-05T12:26:48.087203Z"
    },
    "id": "8d05d2c1",
    "outputId": "2e8860c8-6eb0-49b1-eed4-4ddb0c5c1bd3",
    "papermill": {
     "duration": 0.048071,
     "end_time": "2023-11-05T12:26:48.090344",
     "exception": false,
     "start_time": "2023-11-05T12:26:48.042273",
     "status": "completed"
    },
    "tags": []
   },
   "outputs": [
    {
     "data": {
      "text/plain": [
       "{'n_neighbors': 36}"
      ]
     },
     "execution_count": 71,
     "metadata": {},
     "output_type": "execute_result"
    }
   ],
   "source": [
    "grid_knn.best_params_"
   ]
  },
  {
   "cell_type": "code",
   "execution_count": 72,
   "id": "4fadf745",
   "metadata": {
    "execution": {
     "iopub.execute_input": "2023-11-05T12:26:48.168427Z",
     "iopub.status.busy": "2023-11-05T12:26:48.167282Z",
     "iopub.status.idle": "2023-11-05T12:26:48.314100Z",
     "shell.execute_reply": "2023-11-05T12:26:48.312905Z"
    },
    "id": "091c52f3",
    "papermill": {
     "duration": 0.188663,
     "end_time": "2023-11-05T12:26:48.316903",
     "exception": false,
     "start_time": "2023-11-05T12:26:48.128240",
     "status": "completed"
    },
    "tags": []
   },
   "outputs": [],
   "source": [
    "k=36\n",
    "\n",
    "clf=KNeighborsClassifier(k)\n",
    "\n",
    "clf.fit(x_train,y_train)\n",
    "\n",
    "y_pred=clf.predict(x_test)"
   ]
  },
  {
   "cell_type": "code",
   "execution_count": 73,
   "id": "4b9fbb8c",
   "metadata": {
    "execution": {
     "iopub.execute_input": "2023-11-05T12:26:48.394797Z",
     "iopub.status.busy": "2023-11-05T12:26:48.394436Z",
     "iopub.status.idle": "2023-11-05T12:26:48.401348Z",
     "shell.execute_reply": "2023-11-05T12:26:48.400394Z"
    },
    "id": "9ff11d98",
    "outputId": "10679f72-2692-4435-8ee4-9f8834996d2e",
    "papermill": {
     "duration": 0.048226,
     "end_time": "2023-11-05T12:26:48.403427",
     "exception": false,
     "start_time": "2023-11-05T12:26:48.355201",
     "status": "completed"
    },
    "tags": []
   },
   "outputs": [
    {
     "name": "stdout",
     "output_type": "stream",
     "text": [
      "Accuracy is : 0.7965\n"
     ]
    }
   ],
   "source": [
    "print(\"Accuracy is :\",metrics.accuracy_score(y_test,y_pred))"
   ]
  },
  {
   "cell_type": "markdown",
   "id": "de2487ba",
   "metadata": {
    "id": "ad5a07fc",
    "papermill": {
     "duration": 0.038695,
     "end_time": "2023-11-05T12:26:48.480743",
     "exception": false,
     "start_time": "2023-11-05T12:26:48.442048",
     "status": "completed"
    },
    "tags": []
   },
   "source": [
    "## Decision Tree"
   ]
  },
  {
   "cell_type": "code",
   "execution_count": 74,
   "id": "94748e73",
   "metadata": {
    "execution": {
     "iopub.execute_input": "2023-11-05T12:26:48.558865Z",
     "iopub.status.busy": "2023-11-05T12:26:48.558172Z",
     "iopub.status.idle": "2023-11-05T12:26:48.588489Z",
     "shell.execute_reply": "2023-11-05T12:26:48.587663Z"
    },
    "id": "9c3205a0",
    "papermill": {
     "duration": 0.071601,
     "end_time": "2023-11-05T12:26:48.590641",
     "exception": false,
     "start_time": "2023-11-05T12:26:48.519040",
     "status": "completed"
    },
    "tags": []
   },
   "outputs": [],
   "source": [
    "clf=DecisionTreeClassifier(max_depth=5)\n",
    "\n",
    "clf=clf.fit(x_train,y_train)\n",
    "\n",
    "y_pred=clf.predict(x_test)"
   ]
  },
  {
   "cell_type": "code",
   "execution_count": 75,
   "id": "531c0f1b",
   "metadata": {
    "execution": {
     "iopub.execute_input": "2023-11-05T12:26:48.668600Z",
     "iopub.status.busy": "2023-11-05T12:26:48.667869Z",
     "iopub.status.idle": "2023-11-05T12:26:48.675393Z",
     "shell.execute_reply": "2023-11-05T12:26:48.674257Z"
    },
    "id": "9dfb3e54",
    "outputId": "4bc06fae-3c45-47e3-bd46-89f168155f04",
    "papermill": {
     "duration": 0.048731,
     "end_time": "2023-11-05T12:26:48.677386",
     "exception": false,
     "start_time": "2023-11-05T12:26:48.628655",
     "status": "completed"
    },
    "tags": []
   },
   "outputs": [
    {
     "name": "stdout",
     "output_type": "stream",
     "text": [
      "Accuracy : 0.857\n"
     ]
    }
   ],
   "source": [
    "print(\"Accuracy :\",metrics.accuracy_score(y_test,y_pred))"
   ]
  },
  {
   "cell_type": "code",
   "execution_count": 76,
   "id": "bdc753f4",
   "metadata": {
    "execution": {
     "iopub.execute_input": "2023-11-05T12:26:48.755851Z",
     "iopub.status.busy": "2023-11-05T12:26:48.755152Z",
     "iopub.status.idle": "2023-11-05T12:26:48.762601Z",
     "shell.execute_reply": "2023-11-05T12:26:48.760784Z"
    },
    "id": "78b95290",
    "outputId": "a2b9cb8a-b573-49ac-efd8-83fd69d648bc",
    "papermill": {
     "duration": 0.049184,
     "end_time": "2023-11-05T12:26:48.764488",
     "exception": false,
     "start_time": "2023-11-05T12:26:48.715304",
     "status": "completed"
    },
    "tags": []
   },
   "outputs": [
    {
     "name": "stdout",
     "output_type": "stream",
     "text": [
      "|--- feature_3 <= 42.50\n",
      "|   |--- feature_6 <= 2.50\n",
      "|   |   |--- feature_6 <= 1.50\n",
      "|   |   |   |--- feature_1 <= 3.50\n",
      "|   |   |   |   |--- feature_5 <= 75371.29\n",
      "|   |   |   |   |   |--- class: 0\n",
      "|   |   |   |   |--- feature_5 >  75371.29\n",
      "|   |   |   |   |   |--- class: 0\n",
      "|   |   |   |--- feature_1 >  3.50\n",
      "|   |   |   |   |--- feature_3 <= 33.50\n",
      "|   |   |   |   |   |--- class: 0\n",
      "|   |   |   |   |--- feature_3 >  33.50\n",
      "|   |   |   |   |   |--- class: 0\n",
      "|   |   |--- feature_6 >  1.50\n",
      "|   |   |   |--- feature_5 <= 69409.79\n",
      "|   |   |   |   |--- feature_2 <= 2.50\n",
      "|   |   |   |   |   |--- class: 0\n",
      "|   |   |   |   |--- feature_2 >  2.50\n",
      "|   |   |   |   |   |--- class: 0\n",
      "|   |   |   |--- feature_5 >  69409.79\n",
      "|   |   |   |   |--- feature_5 <= 205892.86\n",
      "|   |   |   |   |   |--- class: 0\n",
      "|   |   |   |   |--- feature_5 >  205892.86\n",
      "|   |   |   |   |   |--- class: 1\n",
      "|   |--- feature_6 >  2.50\n",
      "|   |   |--- feature_5 <= 23194.08\n",
      "|   |   |   |--- feature_9 <= 135675.30\n",
      "|   |   |   |   |--- feature_3 <= 32.50\n",
      "|   |   |   |   |   |--- class: 0\n",
      "|   |   |   |   |--- feature_3 >  32.50\n",
      "|   |   |   |   |   |--- class: 1\n",
      "|   |   |   |--- feature_9 >  135675.30\n",
      "|   |   |   |   |--- feature_0 <= 753.00\n",
      "|   |   |   |   |   |--- class: 1\n",
      "|   |   |   |   |--- feature_0 >  753.00\n",
      "|   |   |   |   |   |--- class: 0\n",
      "|   |   |--- feature_5 >  23194.08\n",
      "|   |   |   |--- feature_9 <= 188544.70\n",
      "|   |   |   |   |--- feature_3 <= 35.50\n",
      "|   |   |   |   |   |--- class: 1\n",
      "|   |   |   |   |--- feature_3 >  35.50\n",
      "|   |   |   |   |   |--- class: 1\n",
      "|   |   |   |--- feature_9 >  188544.70\n",
      "|   |   |   |   |--- feature_4 <= 5.00\n",
      "|   |   |   |   |   |--- class: 0\n",
      "|   |   |   |   |--- feature_4 >  5.00\n",
      "|   |   |   |   |   |--- class: 1\n",
      "|--- feature_3 >  42.50\n",
      "|   |--- feature_8 <= 0.50\n",
      "|   |   |--- feature_3 <= 50.50\n",
      "|   |   |   |--- feature_6 <= 1.50\n",
      "|   |   |   |   |--- feature_1 <= 3.50\n",
      "|   |   |   |   |   |--- class: 1\n",
      "|   |   |   |   |--- feature_1 >  3.50\n",
      "|   |   |   |   |   |--- class: 1\n",
      "|   |   |   |--- feature_6 >  1.50\n",
      "|   |   |   |   |--- feature_6 <= 2.50\n",
      "|   |   |   |   |   |--- class: 0\n",
      "|   |   |   |   |--- feature_6 >  2.50\n",
      "|   |   |   |   |   |--- class: 1\n",
      "|   |   |--- feature_3 >  50.50\n",
      "|   |   |   |--- feature_3 <= 51.50\n",
      "|   |   |   |   |--- feature_2 <= 2.50\n",
      "|   |   |   |   |   |--- class: 1\n",
      "|   |   |   |   |--- feature_2 >  2.50\n",
      "|   |   |   |   |   |--- class: 1\n",
      "|   |   |   |--- feature_3 >  51.50\n",
      "|   |   |   |   |--- feature_5 <= 189175.12\n",
      "|   |   |   |   |   |--- class: 1\n",
      "|   |   |   |   |--- feature_5 >  189175.12\n",
      "|   |   |   |   |   |--- class: 0\n",
      "|   |--- feature_8 >  0.50\n",
      "|   |   |--- feature_6 <= 2.50\n",
      "|   |   |   |--- feature_6 <= 1.50\n",
      "|   |   |   |   |--- feature_1 <= 3.50\n",
      "|   |   |   |   |   |--- class: 0\n",
      "|   |   |   |   |--- feature_1 >  3.50\n",
      "|   |   |   |   |   |--- class: 1\n",
      "|   |   |   |--- feature_6 >  1.50\n",
      "|   |   |   |   |--- feature_5 <= 43031.97\n",
      "|   |   |   |   |   |--- class: 0\n",
      "|   |   |   |   |--- feature_5 >  43031.97\n",
      "|   |   |   |   |   |--- class: 0\n",
      "|   |   |--- feature_6 >  2.50\n",
      "|   |   |   |--- feature_3 <= 59.00\n",
      "|   |   |   |   |--- feature_9 <= 67063.21\n",
      "|   |   |   |   |   |--- class: 1\n",
      "|   |   |   |   |--- feature_9 >  67063.21\n",
      "|   |   |   |   |   |--- class: 1\n",
      "|   |   |   |--- feature_3 >  59.00\n",
      "|   |   |   |   |--- feature_0 <= 632.50\n",
      "|   |   |   |   |   |--- class: 1\n",
      "|   |   |   |   |--- feature_0 >  632.50\n",
      "|   |   |   |   |   |--- class: 0\n"
     ]
    }
   ],
   "source": [
    "text_representation=tree.export_text(clf)\n",
    "print(text_representation)"
   ]
  },
  {
   "cell_type": "code",
   "execution_count": 77,
   "id": "9c6801de",
   "metadata": {
    "execution": {
     "iopub.execute_input": "2023-11-05T12:26:48.843540Z",
     "iopub.status.busy": "2023-11-05T12:26:48.842867Z",
     "iopub.status.idle": "2023-11-05T12:26:48.875696Z",
     "shell.execute_reply": "2023-11-05T12:26:48.874901Z"
    },
    "id": "c90b9561",
    "papermill": {
     "duration": 0.075476,
     "end_time": "2023-11-05T12:26:48.878086",
     "exception": false,
     "start_time": "2023-11-05T12:26:48.802610",
     "status": "completed"
    },
    "tags": []
   },
   "outputs": [],
   "source": [
    "clf=DecisionTreeClassifier(criterion=\"entropy\",max_depth=5)\n",
    "\n",
    "clf=clf.fit(x_train,y_train)\n",
    "\n",
    "y_pred=clf.predict(x_test)"
   ]
  },
  {
   "cell_type": "code",
   "execution_count": 78,
   "id": "d8dd2f0b",
   "metadata": {
    "execution": {
     "iopub.execute_input": "2023-11-05T12:26:48.959816Z",
     "iopub.status.busy": "2023-11-05T12:26:48.959160Z",
     "iopub.status.idle": "2023-11-05T12:26:48.965488Z",
     "shell.execute_reply": "2023-11-05T12:26:48.964508Z"
    },
    "id": "8e55da11",
    "outputId": "3799d2c2-db3c-4643-bcde-cce8868ff906",
    "papermill": {
     "duration": 0.049708,
     "end_time": "2023-11-05T12:26:48.967711",
     "exception": false,
     "start_time": "2023-11-05T12:26:48.918003",
     "status": "completed"
    },
    "tags": []
   },
   "outputs": [
    {
     "name": "stdout",
     "output_type": "stream",
     "text": [
      "Accuracy : 0.857\n"
     ]
    }
   ],
   "source": [
    "print(\"Accuracy :\",metrics.accuracy_score(y_test,y_pred))"
   ]
  },
  {
   "cell_type": "markdown",
   "id": "9c4d8980",
   "metadata": {
    "id": "f369a6dd",
    "papermill": {
     "duration": 0.038377,
     "end_time": "2023-11-05T12:26:49.044748",
     "exception": false,
     "start_time": "2023-11-05T12:26:49.006371",
     "status": "completed"
    },
    "tags": []
   },
   "source": [
    "## RandomForest"
   ]
  },
  {
   "cell_type": "code",
   "execution_count": 79,
   "id": "c2e3ce8b",
   "metadata": {
    "execution": {
     "iopub.execute_input": "2023-11-05T12:26:49.125526Z",
     "iopub.status.busy": "2023-11-05T12:26:49.125103Z",
     "iopub.status.idle": "2023-11-05T12:26:50.394606Z",
     "shell.execute_reply": "2023-11-05T12:26:50.393769Z"
    },
    "id": "651de31f",
    "papermill": {
     "duration": 1.313096,
     "end_time": "2023-11-05T12:26:50.396968",
     "exception": false,
     "start_time": "2023-11-05T12:26:49.083872",
     "status": "completed"
    },
    "tags": []
   },
   "outputs": [],
   "source": [
    "clf=RandomForestClassifier(n_estimators=151,max_depth=7)\n",
    "\n",
    "clf=clf.fit(x_train,y_train)\n",
    "\n",
    "y_pred=clf.predict(x_test)"
   ]
  },
  {
   "cell_type": "code",
   "execution_count": 80,
   "id": "713b3ea1",
   "metadata": {
    "execution": {
     "iopub.execute_input": "2023-11-05T12:26:50.478732Z",
     "iopub.status.busy": "2023-11-05T12:26:50.478124Z",
     "iopub.status.idle": "2023-11-05T12:26:50.483891Z",
     "shell.execute_reply": "2023-11-05T12:26:50.482872Z"
    },
    "id": "4e5f20fc",
    "outputId": "799cf077-794f-40df-8663-ab65d25f8031",
    "papermill": {
     "duration": 0.049211,
     "end_time": "2023-11-05T12:26:50.485825",
     "exception": false,
     "start_time": "2023-11-05T12:26:50.436614",
     "status": "completed"
    },
    "tags": []
   },
   "outputs": [
    {
     "name": "stdout",
     "output_type": "stream",
     "text": [
      "Accuracy : 0.871\n"
     ]
    }
   ],
   "source": [
    "print(\"Accuracy :\",metrics.accuracy_score(y_test,y_pred))"
   ]
  },
  {
   "cell_type": "markdown",
   "id": "e16ae8cd",
   "metadata": {
    "id": "5b917476",
    "papermill": {
     "duration": 0.038266,
     "end_time": "2023-11-05T12:26:50.562927",
     "exception": false,
     "start_time": "2023-11-05T12:26:50.524661",
     "status": "completed"
    },
    "tags": []
   },
   "source": [
    "## SVM"
   ]
  },
  {
   "cell_type": "code",
   "execution_count": 81,
   "id": "1cdb8556",
   "metadata": {
    "execution": {
     "iopub.execute_input": "2023-11-05T12:26:50.641813Z",
     "iopub.status.busy": "2023-11-05T12:26:50.641435Z",
     "iopub.status.idle": "2023-11-05T12:26:50.646089Z",
     "shell.execute_reply": "2023-11-05T12:26:50.645367Z"
    },
    "id": "1300f025",
    "papermill": {
     "duration": 0.046262,
     "end_time": "2023-11-05T12:26:50.647943",
     "exception": false,
     "start_time": "2023-11-05T12:26:50.601681",
     "status": "completed"
    },
    "tags": []
   },
   "outputs": [],
   "source": [
    "clf=SVC()"
   ]
  },
  {
   "cell_type": "code",
   "execution_count": 82,
   "id": "c3b06cee",
   "metadata": {
    "execution": {
     "iopub.execute_input": "2023-11-05T12:26:50.728697Z",
     "iopub.status.busy": "2023-11-05T12:26:50.727729Z",
     "iopub.status.idle": "2023-11-05T12:26:52.129500Z",
     "shell.execute_reply": "2023-11-05T12:26:52.128368Z"
    },
    "id": "a6fc4dcb",
    "outputId": "535a19c7-58a5-49ad-f67d-d5e04c905d43",
    "papermill": {
     "duration": 1.444709,
     "end_time": "2023-11-05T12:26:52.131983",
     "exception": false,
     "start_time": "2023-11-05T12:26:50.687274",
     "status": "completed"
    },
    "tags": []
   },
   "outputs": [
    {
     "data": {
      "text/html": [
       "<style>#sk-container-id-3 {color: black;background-color: white;}#sk-container-id-3 pre{padding: 0;}#sk-container-id-3 div.sk-toggleable {background-color: white;}#sk-container-id-3 label.sk-toggleable__label {cursor: pointer;display: block;width: 100%;margin-bottom: 0;padding: 0.3em;box-sizing: border-box;text-align: center;}#sk-container-id-3 label.sk-toggleable__label-arrow:before {content: \"▸\";float: left;margin-right: 0.25em;color: #696969;}#sk-container-id-3 label.sk-toggleable__label-arrow:hover:before {color: black;}#sk-container-id-3 div.sk-estimator:hover label.sk-toggleable__label-arrow:before {color: black;}#sk-container-id-3 div.sk-toggleable__content {max-height: 0;max-width: 0;overflow: hidden;text-align: left;background-color: #f0f8ff;}#sk-container-id-3 div.sk-toggleable__content pre {margin: 0.2em;color: black;border-radius: 0.25em;background-color: #f0f8ff;}#sk-container-id-3 input.sk-toggleable__control:checked~div.sk-toggleable__content {max-height: 200px;max-width: 100%;overflow: auto;}#sk-container-id-3 input.sk-toggleable__control:checked~label.sk-toggleable__label-arrow:before {content: \"▾\";}#sk-container-id-3 div.sk-estimator input.sk-toggleable__control:checked~label.sk-toggleable__label {background-color: #d4ebff;}#sk-container-id-3 div.sk-label input.sk-toggleable__control:checked~label.sk-toggleable__label {background-color: #d4ebff;}#sk-container-id-3 input.sk-hidden--visually {border: 0;clip: rect(1px 1px 1px 1px);clip: rect(1px, 1px, 1px, 1px);height: 1px;margin: -1px;overflow: hidden;padding: 0;position: absolute;width: 1px;}#sk-container-id-3 div.sk-estimator {font-family: monospace;background-color: #f0f8ff;border: 1px dotted black;border-radius: 0.25em;box-sizing: border-box;margin-bottom: 0.5em;}#sk-container-id-3 div.sk-estimator:hover {background-color: #d4ebff;}#sk-container-id-3 div.sk-parallel-item::after {content: \"\";width: 100%;border-bottom: 1px solid gray;flex-grow: 1;}#sk-container-id-3 div.sk-label:hover label.sk-toggleable__label {background-color: #d4ebff;}#sk-container-id-3 div.sk-serial::before {content: \"\";position: absolute;border-left: 1px solid gray;box-sizing: border-box;top: 0;bottom: 0;left: 50%;z-index: 0;}#sk-container-id-3 div.sk-serial {display: flex;flex-direction: column;align-items: center;background-color: white;padding-right: 0.2em;padding-left: 0.2em;position: relative;}#sk-container-id-3 div.sk-item {position: relative;z-index: 1;}#sk-container-id-3 div.sk-parallel {display: flex;align-items: stretch;justify-content: center;background-color: white;position: relative;}#sk-container-id-3 div.sk-item::before, #sk-container-id-3 div.sk-parallel-item::before {content: \"\";position: absolute;border-left: 1px solid gray;box-sizing: border-box;top: 0;bottom: 0;left: 50%;z-index: -1;}#sk-container-id-3 div.sk-parallel-item {display: flex;flex-direction: column;z-index: 1;position: relative;background-color: white;}#sk-container-id-3 div.sk-parallel-item:first-child::after {align-self: flex-end;width: 50%;}#sk-container-id-3 div.sk-parallel-item:last-child::after {align-self: flex-start;width: 50%;}#sk-container-id-3 div.sk-parallel-item:only-child::after {width: 0;}#sk-container-id-3 div.sk-dashed-wrapped {border: 1px dashed gray;margin: 0 0.4em 0.5em 0.4em;box-sizing: border-box;padding-bottom: 0.4em;background-color: white;}#sk-container-id-3 div.sk-label label {font-family: monospace;font-weight: bold;display: inline-block;line-height: 1.2em;}#sk-container-id-3 div.sk-label-container {text-align: center;}#sk-container-id-3 div.sk-container {/* jupyter's `normalize.less` sets `[hidden] { display: none; }` but bootstrap.min.css set `[hidden] { display: none !important; }` so we also need the `!important` here to be able to override the default hidden behavior on the sphinx rendered scikit-learn.org. See: https://github.com/scikit-learn/scikit-learn/issues/21755 */display: inline-block !important;position: relative;}#sk-container-id-3 div.sk-text-repr-fallback {display: none;}</style><div id=\"sk-container-id-3\" class=\"sk-top-container\"><div class=\"sk-text-repr-fallback\"><pre>SVC()</pre><b>In a Jupyter environment, please rerun this cell to show the HTML representation or trust the notebook. <br />On GitHub, the HTML representation is unable to render, please try loading this page with nbviewer.org.</b></div><div class=\"sk-container\" hidden><div class=\"sk-item\"><div class=\"sk-estimator sk-toggleable\"><input class=\"sk-toggleable__control sk-hidden--visually\" id=\"sk-estimator-id-5\" type=\"checkbox\" checked><label for=\"sk-estimator-id-5\" class=\"sk-toggleable__label sk-toggleable__label-arrow\">SVC</label><div class=\"sk-toggleable__content\"><pre>SVC()</pre></div></div></div></div></div>"
      ],
      "text/plain": [
       "SVC()"
      ]
     },
     "execution_count": 82,
     "metadata": {},
     "output_type": "execute_result"
    }
   ],
   "source": [
    "clf.fit(x_train,y_train)"
   ]
  },
  {
   "cell_type": "code",
   "execution_count": 83,
   "id": "9d040660",
   "metadata": {
    "execution": {
     "iopub.execute_input": "2023-11-05T12:26:52.213055Z",
     "iopub.status.busy": "2023-11-05T12:26:52.212649Z",
     "iopub.status.idle": "2023-11-05T12:26:52.616601Z",
     "shell.execute_reply": "2023-11-05T12:26:52.615440Z"
    },
    "id": "96708b65",
    "papermill": {
     "duration": 0.447794,
     "end_time": "2023-11-05T12:26:52.619231",
     "exception": false,
     "start_time": "2023-11-05T12:26:52.171437",
     "status": "completed"
    },
    "tags": []
   },
   "outputs": [],
   "source": [
    "y_pred=clf.predict(x_test)"
   ]
  },
  {
   "cell_type": "code",
   "execution_count": 84,
   "id": "60186c0b",
   "metadata": {
    "execution": {
     "iopub.execute_input": "2023-11-05T12:26:52.700143Z",
     "iopub.status.busy": "2023-11-05T12:26:52.699735Z",
     "iopub.status.idle": "2023-11-05T12:26:52.717607Z",
     "shell.execute_reply": "2023-11-05T12:26:52.716579Z"
    },
    "id": "1a6be6d0",
    "outputId": "66f83365-c366-42c9-c6cf-67743862ba0d",
    "papermill": {
     "duration": 0.061332,
     "end_time": "2023-11-05T12:26:52.719736",
     "exception": false,
     "start_time": "2023-11-05T12:26:52.658404",
     "status": "completed"
    },
    "tags": []
   },
   "outputs": [
    {
     "name": "stdout",
     "output_type": "stream",
     "text": [
      "              precision    recall  f1-score   support\n",
      "\n",
      "           0       0.80      1.00      0.89      1595\n",
      "           1       0.00      0.00      0.00       405\n",
      "\n",
      "    accuracy                           0.80      2000\n",
      "   macro avg       0.40      0.50      0.44      2000\n",
      "weighted avg       0.64      0.80      0.71      2000\n"
     ]
    },
    {
     "name": "stderr",
     "output_type": "stream",
     "text": [
      "/opt/conda/lib/python3.10/site-packages/sklearn/metrics/_classification.py:1344: UndefinedMetricWarning: Precision and F-score are ill-defined and being set to 0.0 in labels with no predicted samples. Use `zero_division` parameter to control this behavior.\n",
      "  _warn_prf(average, modifier, msg_start, len(result))\n",
      "/opt/conda/lib/python3.10/site-packages/sklearn/metrics/_classification.py:1344: UndefinedMetricWarning: Precision and F-score are ill-defined and being set to 0.0 in labels with no predicted samples. Use `zero_division` parameter to control this behavior.\n",
      "  _warn_prf(average, modifier, msg_start, len(result))\n",
      "/opt/conda/lib/python3.10/site-packages/sklearn/metrics/_classification.py:1344: UndefinedMetricWarning: Precision and F-score are ill-defined and being set to 0.0 in labels with no predicted samples. Use `zero_division` parameter to control this behavior.\n",
      "  _warn_prf(average, modifier, msg_start, len(result))\n"
     ]
    }
   ],
   "source": [
    "print(classification_report(y_test,y_pred))"
   ]
  },
  {
   "cell_type": "code",
   "execution_count": 85,
   "id": "ae3092b4",
   "metadata": {
    "execution": {
     "iopub.execute_input": "2023-11-05T12:26:52.800464Z",
     "iopub.status.busy": "2023-11-05T12:26:52.800049Z",
     "iopub.status.idle": "2023-11-05T12:26:52.807135Z",
     "shell.execute_reply": "2023-11-05T12:26:52.806135Z"
    },
    "id": "2ae7d867",
    "outputId": "f4da120f-9319-414d-909f-c516d6bcdb01",
    "papermill": {
     "duration": 0.049678,
     "end_time": "2023-11-05T12:26:52.809220",
     "exception": false,
     "start_time": "2023-11-05T12:26:52.759542",
     "status": "completed"
    },
    "tags": []
   },
   "outputs": [
    {
     "name": "stdout",
     "output_type": "stream",
     "text": [
      "Accuracy is : 0.7975\n"
     ]
    }
   ],
   "source": [
    "print(\"Accuracy is :\",metrics.accuracy_score(y_test,y_pred))"
   ]
  },
  {
   "cell_type": "markdown",
   "id": "3b4988b7",
   "metadata": {
    "id": "800f3d22",
    "papermill": {
     "duration": 0.038846,
     "end_time": "2023-11-05T12:26:52.887141",
     "exception": false,
     "start_time": "2023-11-05T12:26:52.848295",
     "status": "completed"
    },
    "tags": []
   },
   "source": [
    "## Naive Bayes"
   ]
  },
  {
   "cell_type": "code",
   "execution_count": 86,
   "id": "9c8dd867",
   "metadata": {
    "execution": {
     "iopub.execute_input": "2023-11-05T12:26:52.968789Z",
     "iopub.status.busy": "2023-11-05T12:26:52.968430Z",
     "iopub.status.idle": "2023-11-05T12:26:52.980280Z",
     "shell.execute_reply": "2023-11-05T12:26:52.979313Z"
    },
    "id": "102a804a",
    "papermill": {
     "duration": 0.055379,
     "end_time": "2023-11-05T12:26:52.982666",
     "exception": false,
     "start_time": "2023-11-05T12:26:52.927287",
     "status": "completed"
    },
    "tags": []
   },
   "outputs": [],
   "source": [
    "clf = GaussianNB()\n",
    "clf.fit(x_train,y_train.ravel())\n",
    "y_pred = clf.predict(x_test)"
   ]
  },
  {
   "cell_type": "code",
   "execution_count": 87,
   "id": "0c376301",
   "metadata": {
    "execution": {
     "iopub.execute_input": "2023-11-05T12:26:53.063731Z",
     "iopub.status.busy": "2023-11-05T12:26:53.063362Z",
     "iopub.status.idle": "2023-11-05T12:26:53.070509Z",
     "shell.execute_reply": "2023-11-05T12:26:53.069217Z"
    },
    "id": "a190d27f",
    "outputId": "85296d79-106a-4539-a955-d97e1878f4c1",
    "papermill": {
     "duration": 0.0505,
     "end_time": "2023-11-05T12:26:53.072415",
     "exception": false,
     "start_time": "2023-11-05T12:26:53.021915",
     "status": "completed"
    },
    "tags": []
   },
   "outputs": [
    {
     "name": "stdout",
     "output_type": "stream",
     "text": [
      "Accuracy: 0.7885\n"
     ]
    }
   ],
   "source": [
    "print(\"Accuracy:\",metrics.accuracy_score(y_test, y_pred))"
   ]
  },
  {
   "cell_type": "markdown",
   "id": "70518fdf",
   "metadata": {
    "id": "6SdXjOw73njy",
    "papermill": {
     "duration": 0.0388,
     "end_time": "2023-11-05T12:26:53.152548",
     "exception": false,
     "start_time": "2023-11-05T12:26:53.113748",
     "status": "completed"
    },
    "tags": []
   },
   "source": [
    "##XG Boost"
   ]
  },
  {
   "cell_type": "code",
   "execution_count": 88,
   "id": "a30e0cdb",
   "metadata": {
    "execution": {
     "iopub.execute_input": "2023-11-05T12:26:53.232998Z",
     "iopub.status.busy": "2023-11-05T12:26:53.232628Z",
     "iopub.status.idle": "2023-11-05T12:26:53.238142Z",
     "shell.execute_reply": "2023-11-05T12:26:53.237064Z"
    },
    "id": "EONpN5W0NDOK",
    "papermill": {
     "duration": 0.048013,
     "end_time": "2023-11-05T12:26:53.240264",
     "exception": false,
     "start_time": "2023-11-05T12:26:53.192251",
     "status": "completed"
    },
    "tags": []
   },
   "outputs": [],
   "source": [
    "model_XG = xgb.XGBClassifier(\n",
    "    n_estimators=100,\n",
    "    max_depth=3,\n",
    "    gamma=0,\n",
    "    colsample_bytree=0.5,\n",
    "    subsample=0.5,\n",
    "    learning_rate = 0.01,\n",
    "    reg_lambda=1,\n",
    "    reg_alpha=0,\n",
    "    scale_pos_weight=1,\n",
    "    objective='binary:logistic',\n",
    "    eta = 0.3,\n",
    "    eval_metric = 'logloss',\n",
    "    )"
   ]
  },
  {
   "cell_type": "code",
   "execution_count": 89,
   "id": "a0ba4533",
   "metadata": {
    "execution": {
     "iopub.execute_input": "2023-11-05T12:26:53.320281Z",
     "iopub.status.busy": "2023-11-05T12:26:53.319902Z",
     "iopub.status.idle": "2023-11-05T12:26:53.580181Z",
     "shell.execute_reply": "2023-11-05T12:26:53.579430Z"
    },
    "id": "c3fZ8QFBNF1H",
    "outputId": "4cadb91b-3734-4288-98d5-78aa7af04020",
    "papermill": {
     "duration": 0.302566,
     "end_time": "2023-11-05T12:26:53.582090",
     "exception": false,
     "start_time": "2023-11-05T12:26:53.279524",
     "status": "completed"
    },
    "tags": []
   },
   "outputs": [
    {
     "data": {
      "text/html": [
       "<style>#sk-container-id-4 {color: black;background-color: white;}#sk-container-id-4 pre{padding: 0;}#sk-container-id-4 div.sk-toggleable {background-color: white;}#sk-container-id-4 label.sk-toggleable__label {cursor: pointer;display: block;width: 100%;margin-bottom: 0;padding: 0.3em;box-sizing: border-box;text-align: center;}#sk-container-id-4 label.sk-toggleable__label-arrow:before {content: \"▸\";float: left;margin-right: 0.25em;color: #696969;}#sk-container-id-4 label.sk-toggleable__label-arrow:hover:before {color: black;}#sk-container-id-4 div.sk-estimator:hover label.sk-toggleable__label-arrow:before {color: black;}#sk-container-id-4 div.sk-toggleable__content {max-height: 0;max-width: 0;overflow: hidden;text-align: left;background-color: #f0f8ff;}#sk-container-id-4 div.sk-toggleable__content pre {margin: 0.2em;color: black;border-radius: 0.25em;background-color: #f0f8ff;}#sk-container-id-4 input.sk-toggleable__control:checked~div.sk-toggleable__content {max-height: 200px;max-width: 100%;overflow: auto;}#sk-container-id-4 input.sk-toggleable__control:checked~label.sk-toggleable__label-arrow:before {content: \"▾\";}#sk-container-id-4 div.sk-estimator input.sk-toggleable__control:checked~label.sk-toggleable__label {background-color: #d4ebff;}#sk-container-id-4 div.sk-label input.sk-toggleable__control:checked~label.sk-toggleable__label {background-color: #d4ebff;}#sk-container-id-4 input.sk-hidden--visually {border: 0;clip: rect(1px 1px 1px 1px);clip: rect(1px, 1px, 1px, 1px);height: 1px;margin: -1px;overflow: hidden;padding: 0;position: absolute;width: 1px;}#sk-container-id-4 div.sk-estimator {font-family: monospace;background-color: #f0f8ff;border: 1px dotted black;border-radius: 0.25em;box-sizing: border-box;margin-bottom: 0.5em;}#sk-container-id-4 div.sk-estimator:hover {background-color: #d4ebff;}#sk-container-id-4 div.sk-parallel-item::after {content: \"\";width: 100%;border-bottom: 1px solid gray;flex-grow: 1;}#sk-container-id-4 div.sk-label:hover label.sk-toggleable__label {background-color: #d4ebff;}#sk-container-id-4 div.sk-serial::before {content: \"\";position: absolute;border-left: 1px solid gray;box-sizing: border-box;top: 0;bottom: 0;left: 50%;z-index: 0;}#sk-container-id-4 div.sk-serial {display: flex;flex-direction: column;align-items: center;background-color: white;padding-right: 0.2em;padding-left: 0.2em;position: relative;}#sk-container-id-4 div.sk-item {position: relative;z-index: 1;}#sk-container-id-4 div.sk-parallel {display: flex;align-items: stretch;justify-content: center;background-color: white;position: relative;}#sk-container-id-4 div.sk-item::before, #sk-container-id-4 div.sk-parallel-item::before {content: \"\";position: absolute;border-left: 1px solid gray;box-sizing: border-box;top: 0;bottom: 0;left: 50%;z-index: -1;}#sk-container-id-4 div.sk-parallel-item {display: flex;flex-direction: column;z-index: 1;position: relative;background-color: white;}#sk-container-id-4 div.sk-parallel-item:first-child::after {align-self: flex-end;width: 50%;}#sk-container-id-4 div.sk-parallel-item:last-child::after {align-self: flex-start;width: 50%;}#sk-container-id-4 div.sk-parallel-item:only-child::after {width: 0;}#sk-container-id-4 div.sk-dashed-wrapped {border: 1px dashed gray;margin: 0 0.4em 0.5em 0.4em;box-sizing: border-box;padding-bottom: 0.4em;background-color: white;}#sk-container-id-4 div.sk-label label {font-family: monospace;font-weight: bold;display: inline-block;line-height: 1.2em;}#sk-container-id-4 div.sk-label-container {text-align: center;}#sk-container-id-4 div.sk-container {/* jupyter's `normalize.less` sets `[hidden] { display: none; }` but bootstrap.min.css set `[hidden] { display: none !important; }` so we also need the `!important` here to be able to override the default hidden behavior on the sphinx rendered scikit-learn.org. See: https://github.com/scikit-learn/scikit-learn/issues/21755 */display: inline-block !important;position: relative;}#sk-container-id-4 div.sk-text-repr-fallback {display: none;}</style><div id=\"sk-container-id-4\" class=\"sk-top-container\"><div class=\"sk-text-repr-fallback\"><pre>XGBClassifier(base_score=None, booster=None, callbacks=None,\n",
       "              colsample_bylevel=None, colsample_bynode=None,\n",
       "              colsample_bytree=0.5, early_stopping_rounds=None,\n",
       "              enable_categorical=False, eta=0.3, eval_metric=&#x27;logloss&#x27;,\n",
       "              feature_types=None, gamma=0, gpu_id=None, grow_policy=None,\n",
       "              importance_type=None, interaction_constraints=None,\n",
       "              learning_rate=0.01, max_bin=None, max_cat_threshold=None,\n",
       "              max_cat_to_onehot=None, max_delta_step=None, max_depth=3,\n",
       "              max_leaves=None, min_child_weight=None, missing=nan,\n",
       "              monotone_constraints=None, n_estimators=100, n_jobs=None,\n",
       "              num_parallel_tree=None, predictor=None, ...)</pre><b>In a Jupyter environment, please rerun this cell to show the HTML representation or trust the notebook. <br />On GitHub, the HTML representation is unable to render, please try loading this page with nbviewer.org.</b></div><div class=\"sk-container\" hidden><div class=\"sk-item\"><div class=\"sk-estimator sk-toggleable\"><input class=\"sk-toggleable__control sk-hidden--visually\" id=\"sk-estimator-id-6\" type=\"checkbox\" checked><label for=\"sk-estimator-id-6\" class=\"sk-toggleable__label sk-toggleable__label-arrow\">XGBClassifier</label><div class=\"sk-toggleable__content\"><pre>XGBClassifier(base_score=None, booster=None, callbacks=None,\n",
       "              colsample_bylevel=None, colsample_bynode=None,\n",
       "              colsample_bytree=0.5, early_stopping_rounds=None,\n",
       "              enable_categorical=False, eta=0.3, eval_metric=&#x27;logloss&#x27;,\n",
       "              feature_types=None, gamma=0, gpu_id=None, grow_policy=None,\n",
       "              importance_type=None, interaction_constraints=None,\n",
       "              learning_rate=0.01, max_bin=None, max_cat_threshold=None,\n",
       "              max_cat_to_onehot=None, max_delta_step=None, max_depth=3,\n",
       "              max_leaves=None, min_child_weight=None, missing=nan,\n",
       "              monotone_constraints=None, n_estimators=100, n_jobs=None,\n",
       "              num_parallel_tree=None, predictor=None, ...)</pre></div></div></div></div></div>"
      ],
      "text/plain": [
       "XGBClassifier(base_score=None, booster=None, callbacks=None,\n",
       "              colsample_bylevel=None, colsample_bynode=None,\n",
       "              colsample_bytree=0.5, early_stopping_rounds=None,\n",
       "              enable_categorical=False, eta=0.3, eval_metric='logloss',\n",
       "              feature_types=None, gamma=0, gpu_id=None, grow_policy=None,\n",
       "              importance_type=None, interaction_constraints=None,\n",
       "              learning_rate=0.01, max_bin=None, max_cat_threshold=None,\n",
       "              max_cat_to_onehot=None, max_delta_step=None, max_depth=3,\n",
       "              max_leaves=None, min_child_weight=None, missing=nan,\n",
       "              monotone_constraints=None, n_estimators=100, n_jobs=None,\n",
       "              num_parallel_tree=None, predictor=None, ...)"
      ]
     },
     "execution_count": 89,
     "metadata": {},
     "output_type": "execute_result"
    }
   ],
   "source": [
    "# Fit the model to the training data\n",
    "model_XG.fit(x_train, y_train)"
   ]
  },
  {
   "cell_type": "code",
   "execution_count": 90,
   "id": "b1c98769",
   "metadata": {
    "execution": {
     "iopub.execute_input": "2023-11-05T12:26:53.662631Z",
     "iopub.status.busy": "2023-11-05T12:26:53.661766Z",
     "iopub.status.idle": "2023-11-05T12:26:53.672271Z",
     "shell.execute_reply": "2023-11-05T12:26:53.671163Z"
    },
    "id": "pr6-XICsN6Fw",
    "outputId": "fa331a0f-8311-4c41-8924-00509ff31a27",
    "papermill": {
     "duration": 0.053844,
     "end_time": "2023-11-05T12:26:53.675102",
     "exception": false,
     "start_time": "2023-11-05T12:26:53.621258",
     "status": "completed"
    },
    "tags": []
   },
   "outputs": [
    {
     "name": "stdout",
     "output_type": "stream",
     "text": [
      "Accuracy: 0.7955\n"
     ]
    }
   ],
   "source": [
    "# Make predictions on the test data\n",
    "y_pred = model.predict(x_test)\n",
    "print(\"Accuracy:\",metrics.accuracy_score(y_test, y_pred))"
   ]
  },
  {
   "cell_type": "markdown",
   "id": "81c8513e",
   "metadata": {
    "id": "c6FyMud3CEs9",
    "papermill": {
     "duration": 0.058088,
     "end_time": "2023-11-05T12:26:53.801034",
     "exception": false,
     "start_time": "2023-11-05T12:26:53.742946",
     "status": "completed"
    },
    "tags": []
   },
   "source": [
    "##LightGBM"
   ]
  },
  {
   "cell_type": "code",
   "execution_count": 91,
   "id": "56a85e22",
   "metadata": {
    "execution": {
     "iopub.execute_input": "2023-11-05T12:26:53.881319Z",
     "iopub.status.busy": "2023-11-05T12:26:53.880972Z",
     "iopub.status.idle": "2023-11-05T12:26:53.886200Z",
     "shell.execute_reply": "2023-11-05T12:26:53.885449Z"
    },
    "id": "_yPiENnFJrX1",
    "papermill": {
     "duration": 0.047388,
     "end_time": "2023-11-05T12:26:53.888030",
     "exception": false,
     "start_time": "2023-11-05T12:26:53.840642",
     "status": "completed"
    },
    "tags": []
   },
   "outputs": [],
   "source": [
    "lgbm_classifier = lgb.LGBMClassifier(\n",
    "    objective = \"binary\",\n",
    "    boosting_type='dart',\n",
    "    n_estimators=100,\n",
    "    metric=\"binary_logloss,auc\",\n",
    "    learning_rate = 0.03,\n",
    "    num_leaves = 31,\n",
    "    tree_learner = \"data\",\n",
    "    feature_fraction = 0.8,\n",
    "    bagging_freq = 5,\n",
    "    bagging_fraction = 0.8,\n",
    "    min_data_in_leaf = 50,\n",
    "    min_sum_hessian_in_leaf = 5.0,\n",
    "    force_col_wise= True\n",
    "    )\n"
   ]
  },
  {
   "cell_type": "code",
   "execution_count": 92,
   "id": "4372a669",
   "metadata": {
    "execution": {
     "iopub.execute_input": "2023-11-05T12:26:53.968723Z",
     "iopub.status.busy": "2023-11-05T12:26:53.967999Z",
     "iopub.status.idle": "2023-11-05T12:26:54.726851Z",
     "shell.execute_reply": "2023-11-05T12:26:54.725006Z"
    },
    "id": "wIo15quoJ0Dy",
    "outputId": "d1574733-7c50-40fa-af44-0b9c439c374e",
    "papermill": {
     "duration": 0.801898,
     "end_time": "2023-11-05T12:26:54.729180",
     "exception": false,
     "start_time": "2023-11-05T12:26:53.927282",
     "status": "completed"
    },
    "tags": []
   },
   "outputs": [
    {
     "name": "stdout",
     "output_type": "stream",
     "text": [
      "[LightGBM] [Warning] bagging_fraction is set=0.8, subsample=1.0 will be ignored. Current value: bagging_fraction=0.8\n",
      "[LightGBM] [Warning] min_sum_hessian_in_leaf is set=5.0, min_child_weight=0.001 will be ignored. Current value: min_sum_hessian_in_leaf=5.0\n",
      "[LightGBM] [Warning] min_data_in_leaf is set=50, min_child_samples=20 will be ignored. Current value: min_data_in_leaf=50\n",
      "[LightGBM] [Warning] bagging_freq is set=5, subsample_freq=0 will be ignored. Current value: bagging_freq=5\n",
      "[LightGBM] [Warning] feature_fraction is set=0.8, colsample_bytree=1.0 will be ignored. Current value: feature_fraction=0.8\n",
      "Feature Importances: [228 277 171 604 142 670 313  20 210 365]\n"
     ]
    }
   ],
   "source": [
    "# Fit the model on the training data\n",
    "lgbm_classifier.fit(x_train, y_train)\n",
    "\n",
    "# Make predictions on the test data\n",
    "y_pred = lgbm_classifier.predict(x_test)\n",
    "# You can also access feature importances\n",
    "feature_importances = lgbm_classifier.feature_importances_\n",
    "print(\"Feature Importances:\", feature_importances)"
   ]
  },
  {
   "cell_type": "code",
   "execution_count": 93,
   "id": "f5b9dbaf",
   "metadata": {
    "execution": {
     "iopub.execute_input": "2023-11-05T12:26:54.812074Z",
     "iopub.status.busy": "2023-11-05T12:26:54.811175Z",
     "iopub.status.idle": "2023-11-05T12:26:54.820897Z",
     "shell.execute_reply": "2023-11-05T12:26:54.819782Z"
    },
    "id": "bjxz_wtOKPp3",
    "outputId": "fdb5eb72-8718-407a-bc6b-49c7ee68b838",
    "papermill": {
     "duration": 0.052988,
     "end_time": "2023-11-05T12:26:54.823027",
     "exception": false,
     "start_time": "2023-11-05T12:26:54.770039",
     "status": "completed"
    },
    "tags": []
   },
   "outputs": [
    {
     "name": "stdout",
     "output_type": "stream",
     "text": [
      "Accuracy: 0.87\n"
     ]
    }
   ],
   "source": [
    "# Evaluate the model\n",
    "print(\"Accuracy:\",metrics.accuracy_score(y_test, y_pred))"
   ]
  }
 ],
 "metadata": {
  "kernelspec": {
   "display_name": "Python 3",
   "language": "python",
   "name": "python3"
  },
  "language_info": {
   "codemirror_mode": {
    "name": "ipython",
    "version": 3
   },
   "file_extension": ".py",
   "mimetype": "text/x-python",
   "name": "python",
   "nbconvert_exporter": "python",
   "pygments_lexer": "ipython3",
   "version": "3.10.12"
  },
  "papermill": {
   "default_parameters": {},
   "duration": 60.114474,
   "end_time": "2023-11-05T12:26:57.484643",
   "environment_variables": {},
   "exception": null,
   "input_path": "__notebook__.ipynb",
   "output_path": "__notebook__.ipynb",
   "parameters": {},
   "start_time": "2023-11-05T12:25:57.370169",
   "version": "2.4.0"
  }
 },
 "nbformat": 4,
 "nbformat_minor": 5
}
